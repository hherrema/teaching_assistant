{
 "cells": [
  {
   "cell_type": "markdown",
   "id": "adad4e8b-b880-4056-b689-53cd2a31fbde",
   "metadata": {},
   "source": [
    "# Python Practice for Climate and Big Data\n",
    "\n",
    "This notebook contains several exercises to practice your python programming skills.  While the problems do not concern content related to the material of the course, they enforce the \"style of thinking\" and introduce data analysis techniques that will be themes throughout the course."
   ]
  },
  {
   "cell_type": "code",
   "execution_count": null,
   "id": "05b5240e-ed90-448d-9e20-9475ecdcd299",
   "metadata": {},
   "outputs": [],
   "source": [
    "# imports\n",
    "import numpy as np\n",
    "import pandas as pd; pd.set_option('display.max_columns', None)\n",
    "import matplotlib.pyplot as plt\n",
    "import warnings; warnings.filterwarnings('ignore')\n",
    "import pickle\n",
    "import time"
   ]
  },
  {
   "cell_type": "markdown",
   "id": "56fd32ba-0ded-4e9f-8ca0-8670df9fb6a5",
   "metadata": {},
   "source": [
    "## Problem 1: Lists, Matplotlib, and Dynamical Systems\n",
    "\n",
    "A question of great intrigue in theoretical neuroscience is how do we mathematically describe the activity of individual neurons.  One attempt at this is the Izhikevich model, which consists of 3 equations that model the dynamics of a neuron's membrane potential $V$ (or voltage, in mV), where $\\Delta V$ is the change in $V$ over each timestep of duration $\\Delta t$ (in ms).\n",
    "\n",
    "$$\n",
    "\\frac{\\Delta V}{\\Delta t} = 0.04V^{2} + 5V + 140 - u + I\n",
    "$$\n",
    "\n",
    "$$\n",
    "\\frac{\\Delta u}{\\Delta t} = a(bV - u)\n",
    "$$\n",
    "\n",
    "$$\n",
    "if \\ V \\geq 30 \\ mV, \\ then \\ \\{V \\leftarrow c \\ ; \\ u \\leftarrow u + d\\}\n",
    "$$\n",
    "\n",
    "Here $u$ is a membrane recovery variable, $I$ is the input current (in mA), and $a$, $b$, $c$, and $d$ are free parameters.  Essentially, the first two equations model how the voltage $V$ and recovery variable $u$ change in time, while the third equation indicates that if the voltage reaches a certain threshold, it will be reset to some value $c$.  This reset is meant to symbolize the hyperpolarization that follows the firing of an action potential.\n",
    "\n",
    "In this problem, we will simulate the Izhikevich model with different parameter sets to generate unique neuronal behaviors.  We will use the same constants and initial values for each part as defined below, with our simulations running over 300 ms.  For the input current, we will presume that there is 50 ms of no current followed by 250 ms of constant current at 10 mA.\n",
    "\n",
    "* Hint: The first two equations correspond to two differential equations, the first of which tells us how the membrane potential changes with time.  If we want to run a simulation that steps forward in time, think of how we can solve for the change in voltage."
   ]
  },
  {
   "cell_type": "code",
   "execution_count": null,
   "id": "d5e38a63-a692-485f-ac2f-9cf2c343043f",
   "metadata": {},
   "outputs": [],
   "source": [
    "# constants, initial values\n",
    "Vthresh = 30                    # threshold potential [mV]\n",
    "V0 = -65                        # initial potential [mV]\n",
    "t0 = -50                        # initial time [ms]\n",
    "tf = 250                        # final time [ms]\n",
    "dt = 0.01                       # time step [ms]\n",
    "I_in = 10                       # input current [mA]"
   ]
  },
  {
   "cell_type": "markdown",
   "id": "7c31ea4a-4271-44ca-a2ad-2cad6c1d9859",
   "metadata": {},
   "source": [
    "To run simulations of the model, we will define a function that takes in several arguments for the initial conditions and parameter values and returns two lists, one that holds the membrane potential and one that holds the time at each step of the simulation, as well as the number of action potentials fired."
   ]
  },
  {
   "cell_type": "code",
   "execution_count": null,
   "id": "9ce96c71-adda-4f79-a966-bd5c178e49e1",
   "metadata": {},
   "outputs": [],
   "source": [
    "# Izhikevich model simulation\n",
    "def Izh_model(Vthresh, V0, t0, tf, dt, I_in, a, b, c, d):\n",
    "    u0 = b * V0\n",
    "    V = V0                        # set initial voltage\n",
    "    u = u0                        # set initial membrane recovery\n",
    "    t = t0                        # set initial time\n",
    "    Vlist = [V]                   # list holding voltage time-series\n",
    "    tlist = [t]                   # list holding times\n",
    "    action_potentials = 0         # number of action potentials\n",
    "    \n",
    "    ### YOUR CODE HERE\n",
    "    raise NotImplementedError\n",
    "    \n",
    "    return Vlist, tlist, action_potentials"
   ]
  },
  {
   "cell_type": "markdown",
   "id": "5ce72c99-c896-4893-85f3-6445aa8d9c05",
   "metadata": {},
   "source": [
    "#### Part (a) Regular Spiking Neuron\n",
    "\n",
    "Simulate the Izhikevich model with the parameters $a = 0.02$, $b = 0.2$, $c = -65 \\ mV$, $d = 8$.  Input to the neuron a step current, $I = 0 \\ mA$ when $t < 0$ and $I = 10 \\ mA$ when $t \\geq 0$.  \n",
    "\n",
    "Plot the membrane potential as a function of time and indicate how many action potentials the neuron fired.  Make sure to label your axes, as well as indicate on your graph the reset and threshold potentials using dashed horizontal lines."
   ]
  },
  {
   "cell_type": "code",
   "execution_count": null,
   "id": "43e68c8a-bd18-4010-882f-ef8e9695ae45",
   "metadata": {},
   "outputs": [],
   "source": [
    "### YOUR CODE HERE\n",
    "# parameters\n"
   ]
  },
  {
   "cell_type": "code",
   "execution_count": null,
   "id": "a537bb30-39e1-46f6-a4de-72f321e4e64a",
   "metadata": {},
   "outputs": [],
   "source": [
    "# run the model\n"
   ]
  },
  {
   "cell_type": "code",
   "execution_count": null,
   "id": "1bfba267-4eef-450e-ae57-9d978ff6c359",
   "metadata": {},
   "outputs": [],
   "source": [
    "# graphing\n"
   ]
  },
  {
   "cell_type": "markdown",
   "id": "25f7a7ef-f6eb-4fa4-9cb8-17ff35438b97",
   "metadata": {},
   "source": [
    "#### Part (b) Chattering Neuron\n",
    "\n",
    "Simulate the Izhikevich model with the parameters $a = 0.02$, $b = 0.2$, $c = -50 \\ mV$, $d = 2$.  Input to the neuron a step current, $I = 0 \\ mA$ when $t < 0$ and $I = 10 \\ mA$ when $t \\geq 0$.\n",
    "\n",
    "Plot the membrane potential as a function of time and indicate how many action potentials the neuron fired.  Make sure to label your axes, as well as indicate on your graph the reset and threshold potentials using dashed horizontal lines."
   ]
  },
  {
   "cell_type": "code",
   "execution_count": null,
   "id": "c6320efe-400d-4627-a6a6-f8d6b2be248b",
   "metadata": {},
   "outputs": [],
   "source": [
    "### YOUR CODE HERE\n",
    "# parameters\n"
   ]
  },
  {
   "cell_type": "code",
   "execution_count": null,
   "id": "acc0b663-0361-43d8-8353-9ebe19c07e51",
   "metadata": {},
   "outputs": [],
   "source": [
    "# run the model\n"
   ]
  },
  {
   "cell_type": "code",
   "execution_count": null,
   "id": "6261dc78-259f-4200-a6e5-642d886dc5cb",
   "metadata": {},
   "outputs": [],
   "source": [
    "# graphing\n"
   ]
  },
  {
   "cell_type": "markdown",
   "id": "d284c5a6-e43a-4313-bb2b-a3d2592b9fe2",
   "metadata": {},
   "source": [
    "## Problem 2: Numpy and Multi-Dimensional Data\n",
    "\n",
    "We have data on the temperature profile of a lake in Switzerland, in the form of a 4-dimensional array.  The first dimension represents depth (40 meters), the second length (70 meters), the third width (50 meters), and the last dimension represents the day of the year (starting January 1st and ending December 31st).  In this problem, we will analyze the spatio-temporal dynamics of the lake's temperature profile.\n",
    "\n",
    "Running the cell below will load the data for you to analyze.  Make sure you have the python_practice_files folder in the same directory as this notebook.\n",
    "\n",
    "* Hint: We are modelling the lake as a rectangular prism (with a fourth time dimension).  To help in trying to visualize, you can think of the length as east-west (longitude) and the width as north-south (latitude)."
   ]
  },
  {
   "cell_type": "code",
   "execution_count": null,
   "id": "b6cbf5e1-59b7-40fb-a612-996bd4ecd1c6",
   "metadata": {},
   "outputs": [],
   "source": [
    "def gen_lake_data():\n",
    "    return np.load('python_practice_files/t_lake.npy')\n",
    "\n",
    "t_lake = gen_lake_data()"
   ]
  },
  {
   "cell_type": "markdown",
   "id": "e71d06d0-28cb-4f2d-be6f-089cfc87d2b7",
   "metadata": {},
   "source": [
    "#### Part (a)\n",
    "\n",
    "Find the days of the year where the average temperature of the entire lake is the coldest and the warmest."
   ]
  },
  {
   "cell_type": "code",
   "execution_count": null,
   "id": "d8d7512b-8331-4ffa-94cd-46f3d4f80e53",
   "metadata": {},
   "outputs": [],
   "source": [
    "### YOUR CODE HERE\n"
   ]
  },
  {
   "cell_type": "code",
   "execution_count": null,
   "id": "9e9f2be1-2042-4345-ab01-a2ad059e609e",
   "metadata": {},
   "outputs": [],
   "source": [
    "# print results\n"
   ]
  },
  {
   "cell_type": "markdown",
   "id": "11ec78e2-a82e-4eb9-ba3e-43b442f3c0f8",
   "metadata": {},
   "source": [
    "#### Part (b)\n",
    "\n",
    "Plot the daily change in temperature of the lake averaged over the entire water body as a time-series."
   ]
  },
  {
   "cell_type": "code",
   "execution_count": null,
   "id": "81636c03-81a6-4384-b172-f0ea3b82163c",
   "metadata": {},
   "outputs": [],
   "source": [
    "### YOUR CODE HERE\n"
   ]
  },
  {
   "cell_type": "code",
   "execution_count": null,
   "id": "a12f914d-d05f-427a-8c30-c1c9452a038a",
   "metadata": {},
   "outputs": [],
   "source": [
    "# graphing\n"
   ]
  },
  {
   "cell_type": "markdown",
   "id": "6efa7b56-82b6-4313-8d77-3be923fd95ac",
   "metadata": {},
   "source": [
    "#### Part (c)\n",
    "\n",
    "For each 10 meter layer of depth, find the sample standard deviation of temperature over the year, treating each day as independent (meaning we average over the length and width).  First, do so manually using the formula for the sample standard deviation:\n",
    "\n",
    "$$\n",
    "\\sigma = \\sqrt{\\frac{\\sum{(x_{i}-\\bar{x})^{2}}}{n-1}}\n",
    "$$\n",
    "\n",
    "where we sum over all observations $x_{i}$, $\\bar{x}$ is the sample mean, and $n$ is the number of data points.  Then, do the same calculation using a numpy function."
   ]
  },
  {
   "cell_type": "code",
   "execution_count": null,
   "id": "3fbd50ac-d639-4fa0-b768-e5f8867c952e",
   "metadata": {},
   "outputs": [],
   "source": [
    "### YOUR CODE HERE\n"
   ]
  },
  {
   "cell_type": "code",
   "execution_count": null,
   "id": "fd8869fd-36d2-4790-981d-f14579950334",
   "metadata": {},
   "outputs": [],
   "source": [
    "# manually calculate\n"
   ]
  },
  {
   "cell_type": "code",
   "execution_count": null,
   "id": "d60616e0-a795-48d8-a912-e13e2b6c07e6",
   "metadata": {},
   "outputs": [],
   "source": [
    "# print results\n"
   ]
  },
  {
   "cell_type": "code",
   "execution_count": null,
   "id": "fe26baa7-6c2a-4965-942d-cea5ae5fe600",
   "metadata": {},
   "outputs": [],
   "source": [
    "# use a numpy function\n"
   ]
  },
  {
   "cell_type": "code",
   "execution_count": null,
   "id": "08ff7aca-7c77-4eb7-9db1-0bce5940e91d",
   "metadata": {},
   "outputs": [],
   "source": [
    "# print results\n"
   ]
  },
  {
   "cell_type": "markdown",
   "id": "deaadf9c-fce1-4080-80c7-db4375a4eb41",
   "metadata": {},
   "source": [
    "#### Part (d)\n",
    "\n",
    "Selecting a width in the middle of the lake (i.e., a specific latitude), plot the two-dimensional (length on x-axis, depth on y-axis) temperature profile of the lake on 1 day in the summer and 1 day in the winter.\n",
    "\n",
    "Also, averaging over the width of the lake, plot the two-dimensional (length on x-axis, depth on y-axis) temperature profile averaged over 1 week in the summer and 1 week in the winter.\n",
    "\n",
    "* Hint: *plt.matshow* is useful for plotting 1 dependent variable as a function of two independent variables."
   ]
  },
  {
   "cell_type": "code",
   "execution_count": null,
   "id": "e5d19528-7256-4595-9a9b-129cb8dd59f9",
   "metadata": {},
   "outputs": [],
   "source": [
    "### YOUR CODE HERE\n"
   ]
  },
  {
   "cell_type": "code",
   "execution_count": null,
   "id": "246f9444-d58c-48e4-86db-cc0bee187bcf",
   "metadata": {},
   "outputs": [],
   "source": [
    "# graphing\n"
   ]
  },
  {
   "cell_type": "markdown",
   "id": "7de7e9bb-0db6-4f9b-8e68-fc768edc76c4",
   "metadata": {},
   "source": [
    "## Problem 3: Pandas and Tabular Data\n",
    "\n",
    "Imagine you work for a professional football club.  Your team just lost your best player, so the owner has tasked you with identifying potential replacement players that your team can sign.  Specifically, the manager has instructed you that they are looking for players with the following qualifications:\n",
    "\n",
    "1. Midfielders: only look at players who have 'MF' listed as a position they can play ('Pos')\n",
    "2. Injury-Free: only look at players who played more than 20 90s in the previous season ('90s')\n",
    "3. Above average passing completion percentage ('Total_Cmp%')\n",
    "4. Above average key passes per 90 minutes ('KP')\n",
    "5. Above average progressive passing distance per 90 minutes ('Total_PrgDist')\n",
    "6. Youth: only look at players under 25 years old ('Age')\n",
    "\n",
    "Run the following cell to load in a dataset containing player statistics from the previous season.  Make sure you have the python_practice_files folder in the same directory as this notebook."
   ]
  },
  {
   "cell_type": "code",
   "execution_count": null,
   "id": "427a0c69-693c-4c7f-b894-659bde7c4f9c",
   "metadata": {},
   "outputs": [],
   "source": [
    "def load_fbref_data():\n",
    "    return pd.read_csv('python_practice_files/passing_t5.csv')\n",
    "\n",
    "dataframe = load_fbref_data()\n",
    "dataframe"
   ]
  },
  {
   "cell_type": "markdown",
   "id": "682fa8b1-9b44-49f2-9d80-8086ca289f4e",
   "metadata": {},
   "source": [
    "#### Part (a)\n",
    "\n",
    "First, let's clean up our dataset a little bit.  There are numerous columns we are not conncerned with, so let's just remove them.  Drop all of the columns in the list below from our dataframe."
   ]
  },
  {
   "cell_type": "code",
   "execution_count": null,
   "id": "23cf0819-2156-4237-91dd-9ebd81a17c59",
   "metadata": {},
   "outputs": [],
   "source": [
    "cols_to_drop = ['Rk', 'Born', 'Short_Cmp', 'Short_Att', 'Short_Cmp%', 'Medium_Cmp', 'Medium_Att', 'Medium_Cmp%', \n",
    "                'Long_Cmp', 'Long_Att', 'Long_Cmp%','xAG', 'A-xAG', '1/3', 'PPA', 'CrsPA', 'Matches']\n",
    "\n",
    "### YOUR CODE HERE\n"
   ]
  },
  {
   "cell_type": "markdown",
   "id": "451cdc32-3d48-4c2f-973a-3337a8da8d46",
   "metadata": {},
   "source": [
    "#### Part (b)\n",
    "\n",
    "Now, let's begin filtering our data.  First, let's determine how many players qualify based on our first 2 criteria.  Filter out all players who are not midfielders or who played fewer than 20 90s last season.  Report the number of players who qualify from each league ('Comp')."
   ]
  },
  {
   "cell_type": "code",
   "execution_count": null,
   "id": "3a867c9a-f40d-4f65-81f3-482cb6db433f",
   "metadata": {},
   "outputs": [],
   "source": [
    "### YOUR CODE HERE\n"
   ]
  },
  {
   "cell_type": "code",
   "execution_count": null,
   "id": "6a17e701-5fca-468d-a0df-59b641296955",
   "metadata": {},
   "outputs": [],
   "source": [
    "# print results\n"
   ]
  },
  {
   "cell_type": "markdown",
   "id": "ceae0d22-b032-4704-9351-24b1f6211d85",
   "metadata": {},
   "source": [
    "#### Part (c)\n",
    "\n",
    "For the next 3 criteria, we want to judge individual performance in relaton to the perforance of other players.  Also, we want to look at statistics based on a per 90 minute rate.  Using the data we have available, create two new columns ('KP_per90' and 'Total_PrgDist_per90') and populate them with the rate data we want.  \n",
    "\n",
    "Then, filter the data further and identify the list of players who had above average passing completion percentage, key passes per 90 minutes, and progressive passing distance per 90 minutes.  Also, report the means for these three statistics."
   ]
  },
  {
   "cell_type": "code",
   "execution_count": null,
   "id": "6c833891-a526-45be-ac80-9237e69ea85e",
   "metadata": {},
   "outputs": [],
   "source": [
    "### YOUR CODE HERE\n"
   ]
  },
  {
   "cell_type": "code",
   "execution_count": null,
   "id": "51a6b0fe-4a7f-4221-8d21-a4ae37855bf7",
   "metadata": {},
   "outputs": [],
   "source": [
    "# print results\n"
   ]
  },
  {
   "cell_type": "markdown",
   "id": "bc4de2a6-8905-451b-8f6b-2abcbe79436b",
   "metadata": {},
   "source": [
    "#### Part (d)\n",
    "\n",
    "Finally, filter based on the youth criteria and present of a list of players who the team should try to sign.  Report the standard error of the mean of our 3 criteria from part (c) for this subset of players.  Recall the formula for the standard error:\n",
    "\n",
    "$$\n",
    "SE = \\frac{\\sigma}{\\sqrt{n}}\n",
    "$$\n",
    "\n",
    "where $\\sigma$ is the sample standard deviation, and $n$ is the number of independent observations."
   ]
  },
  {
   "cell_type": "code",
   "execution_count": null,
   "id": "48ac7522-99ff-41ae-bffb-856c9f229b05",
   "metadata": {},
   "outputs": [],
   "source": [
    "### YOUR CODE HERE\n"
   ]
  },
  {
   "cell_type": "code",
   "execution_count": null,
   "id": "5e389187-dd59-431f-bf1e-c435677e3d55",
   "metadata": {},
   "outputs": [],
   "source": [
    "# print results\n"
   ]
  },
  {
   "cell_type": "markdown",
   "id": "9649d1c4-90cd-42e6-93c2-b4b22a9dfa0e",
   "metadata": {},
   "source": [
    "## Problem 4: Reading, Parsing, and Writing Files\n",
    "\n",
    "The opening few pages to Edward Albee's play \"A Delicate Balance\" are stored in the text file python_practice_files/Albee_A_Delicate_Balance.txt.  Each line in the text file contains one line of dialogue, with the start of the line indicating the character speaking and a ':' separating the character from the dialogue (i.e. CHARACTER_NAME: line of dialogue).\n",
    "\n",
    "For each question, you will append your answer to the \"answers\" list, and at the end of the problem you will save that list to a pickle (.pkl) file."
   ]
  },
  {
   "cell_type": "code",
   "execution_count": null,
   "id": "d7a2fb2f-75ab-43fa-994f-3ee4005ae6b7",
   "metadata": {},
   "outputs": [],
   "source": [
    "answers = []"
   ]
  },
  {
   "cell_type": "markdown",
   "id": "8f01dbb8-2a66-4571-9edd-d5993ba5fd24",
   "metadata": {},
   "source": [
    "#### Part (a)\n",
    "\n",
    "Determine how many lines each character has.  Store (character, number of lines) tuples in the answers list, which should be ordered based on the order in which the characters' first lines appear in the play."
   ]
  },
  {
   "cell_type": "code",
   "execution_count": null,
   "id": "f94e61e8-47c2-49d3-b00b-82826606aaa7",
   "metadata": {},
   "outputs": [],
   "source": [
    "#### YOUR CODE HERE\n"
   ]
  },
  {
   "cell_type": "code",
   "execution_count": null,
   "id": "41c02c05-e187-46c9-a5d9-42ca737d137b",
   "metadata": {},
   "outputs": [],
   "source": [
    "# append to answers list\n"
   ]
  },
  {
   "cell_type": "markdown",
   "id": "0772b087-1a05-472a-bd82-e06e001cc9f6",
   "metadata": {},
   "source": [
    "#### Part (b)\n",
    "\n",
    "Determine how many times a character says \"Julia\".  Store the integer in the answers list."
   ]
  },
  {
   "cell_type": "code",
   "execution_count": null,
   "id": "e5f610ec-9b57-40c1-a3b5-75fb4971be49",
   "metadata": {},
   "outputs": [],
   "source": [
    "### YOUR CODE HERE\n"
   ]
  },
  {
   "cell_type": "code",
   "execution_count": null,
   "id": "98fc4563-a941-4e9a-be53-b61382811dd2",
   "metadata": {},
   "outputs": [],
   "source": [
    "# append to answers list\n"
   ]
  },
  {
   "cell_type": "markdown",
   "id": "14c1038c-6f63-49aa-af20-9f3567b1d2b9",
   "metadata": {},
   "source": [
    "#### Part (c)\n",
    "\n",
    "Find the 10th word of every line and add it to your answers list (as strings).  For lines with fewer than 10 words, instead add the number of words on the line to your list of answers (as integers).  \n",
    "\n",
    "Note that the character name does not count as a word, and that we only want to count words (not numbers or special characters)."
   ]
  },
  {
   "cell_type": "code",
   "execution_count": null,
   "id": "e67fb59a-c288-4838-bb1a-44f40fddedc1",
   "metadata": {},
   "outputs": [],
   "source": [
    "#### YOUR CODE HERE\n"
   ]
  },
  {
   "cell_type": "code",
   "execution_count": null,
   "id": "e314ddbc-c92c-4e53-8491-76644c24af81",
   "metadata": {},
   "outputs": [],
   "source": [
    "# append to answers list\n"
   ]
  },
  {
   "cell_type": "markdown",
   "id": "6d6a74ca-389d-4c57-85ff-6cbffb8d31d9",
   "metadata": {},
   "source": [
    "#### Part (d)\n",
    "\n",
    "Save your answers to a pickle file called 'answers.pkl' within the python_practice_files directory."
   ]
  },
  {
   "cell_type": "code",
   "execution_count": null,
   "id": "da0f17b5-053d-4044-9570-e1f1be9b86dc",
   "metadata": {},
   "outputs": [],
   "source": [
    "### YOUR CODE HERE\n"
   ]
  },
  {
   "cell_type": "markdown",
   "id": "300567a5-b577-4588-a0c0-b0bfca313485",
   "metadata": {},
   "source": [
    "## Problem 5: Randomize\n",
    "\n",
    "Randomize a list of $n$ items.  First, do so with only using *np.random.randint* to generate 1 random integer at a time.  Then, do so with *np.random.shuffle*.  Compare how long the two methods take for lists of length 1000 and 1000000.\n",
    "\n",
    "* Hints: *time.time()* will get the current time, which we can use to calculate how long code takes to run."
   ]
  },
  {
   "cell_type": "code",
   "execution_count": null,
   "id": "9c2504c9-6a20-435a-be4e-c759bf1b2480",
   "metadata": {},
   "outputs": [],
   "source": [
    "# lists of different lengths\n",
    "lst_thousand = np.arange(1000)\n",
    "lst_million = np.arange(1000000)"
   ]
  },
  {
   "cell_type": "code",
   "execution_count": null,
   "id": "a5651478-481c-4cdd-81f3-4363c913aef5",
   "metadata": {},
   "outputs": [],
   "source": [
    "def randomize(lst):\n",
    "    ### YOUR CODE HERE\n",
    "    raise NotImplementedError\n",
    "    \n",
    "def shuffle(lst):\n",
    "    new_lst = lst.copy()\n",
    "    np.random.shuffle(new_lst)\n",
    "    return new_lst"
   ]
  },
  {
   "cell_type": "code",
   "execution_count": null,
   "id": "039d1191-865c-47ee-9ccf-1c8c91fada83",
   "metadata": {},
   "outputs": [],
   "source": [
    "### YOUR CODE HERE\n"
   ]
  },
  {
   "cell_type": "code",
   "execution_count": null,
   "id": "eac38dbb-0f24-484c-8163-cb4e09e96a5a",
   "metadata": {},
   "outputs": [],
   "source": [
    "# print results\n"
   ]
  }
 ],
 "metadata": {
  "kernelspec": {
   "display_name": "bids",
   "language": "python",
   "name": "bids"
  },
  "language_info": {
   "codemirror_mode": {
    "name": "ipython",
    "version": 3
   },
   "file_extension": ".py",
   "mimetype": "text/x-python",
   "name": "python",
   "nbconvert_exporter": "python",
   "pygments_lexer": "ipython3",
   "version": "3.11.4"
  }
 },
 "nbformat": 4,
 "nbformat_minor": 5
}
