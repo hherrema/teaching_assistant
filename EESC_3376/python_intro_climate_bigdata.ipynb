{
 "cells": [
  {
   "cell_type": "markdown",
   "id": "fa3608e3-5506-46d5-a60e-43a126b5d14b",
   "metadata": {},
   "source": [
    "# Python Introduction for Climate and Big Data"
   ]
  },
  {
   "cell_type": "markdown",
   "id": "6507335d-47bd-449b-9b91-b9703c5cd7be",
   "metadata": {},
   "source": [
    "First things first, let's introduce what exactly you are looking at.  This interface is a Jupyter notebook, which is going to be our workspace for all of our data analysis (we will start in Google Colab and then switch to Jupyter, but they are in practice the same).  In a notebook, you can do lots, but most importantly you can write and run code which will load, analyze, and graph data."
   ]
  },
  {
   "cell_type": "markdown",
   "id": "4f87875d-7feb-4703-a655-71441e6bcbdf",
   "metadata": {},
   "source": [
    "### Let's get working with python"
   ]
  },
  {
   "cell_type": "markdown",
   "id": "00167be7-bc43-43e9-b053-d42bacb7fec6",
   "metadata": {},
   "source": [
    "Python is a programming language, much like any other you may have heard of or used in a class/for research.  At its core, we write a series of commands in a syntax that the computer understands, and then the computer will execute those commands for us."
   ]
  },
  {
   "cell_type": "code",
   "execution_count": null,
   "id": "36b9ebaf-5ff7-463a-b2a0-57f41c786b09",
   "metadata": {},
   "outputs": [],
   "source": [
    "# anything that follows a \"#\" will be a comment, which does not get run as code and we use to annotate our code\n",
    "\n",
    "# we can define and assign variables using \"=\"\n",
    "x = 3\n",
    "\n",
    "# we can check the value assigned to a variable either by printing\n",
    "print('x =', x)\n",
    "\n",
    "# or simply by typing the object as the last line of a cell\n",
    "x"
   ]
  },
  {
   "cell_type": "markdown",
   "id": "2653e2fe-f787-41a7-880d-65a3d68db597",
   "metadata": {},
   "source": [
    "This brings us to some characteristics of a Jupyter notebook.  Above, I mentioned a \"cell,\" which is essentially just a block of code.  We can run a single cell by pressing **SHIFT + ENTER**.  Go ahead and click on the above cell and run it.  While a cell is running, there will be a \"\\*\" at the top left corner of the cell, and once the cell has run, there will be a number indicating the order in which cells have been run.  To create a new cell above or below the currently selected cell, press **a** or **b**, respectively, and to delete a cell, double tap **d**.\n",
    "\n",
    "For the rest of this notebook, once you have read and understood the content of each cell, run it!  Don't hesitate to make new cells to write some of your own code to test your understanding."
   ]
  },
  {
   "cell_type": "code",
   "execution_count": null,
   "id": "c30453c1-56f0-4ddf-a687-9757fde55b18",
   "metadata": {},
   "outputs": [],
   "source": [
    "# variable names can be anything, but it is good practice to make them informative\n",
    "my_variable = 9.81\n",
    "g = 9.81\n",
    "print('acceleration due to gravity =', g)"
   ]
  },
  {
   "cell_type": "code",
   "execution_count": null,
   "id": "9526f3bf-a135-409d-9021-3841aa9f301f",
   "metadata": {},
   "outputs": [],
   "source": [
    "# since \"=\" is used for assignment, we use a double \"==\" to check for equality\n",
    "print('x == 4?', x == 4)\n",
    "print('x == 3?', x == 3)"
   ]
  },
  {
   "cell_type": "code",
   "execution_count": null,
   "id": "638fd92b-2041-458b-a657-8c2d80cc0821",
   "metadata": {},
   "outputs": [],
   "source": [
    "# the order in which cells are run are important because variables can be reassigned\n",
    "# not realizing you have reassigned a variable or doing so in the wrong order can be the cause of lots of errors\n",
    "print('old x =', x)\n",
    "\n",
    "# let's declare and assign a new variable y\n",
    "y = x\n",
    "print('y =', y)\n",
    "\n",
    "# now we reassign x, but be wary becuase this does NOT also update y\n",
    "x = 5\n",
    "print('reassigned x =', x)\n",
    "print('y does not change', y)                      # if you run this cell again, see what happens to y"
   ]
  },
  {
   "cell_type": "markdown",
   "id": "4811061a-13d9-4428-aeb7-7837e7c824e4",
   "metadata": {},
   "source": [
    "In python, there are numerous datatypes.  The important ones for us are integers (**int**), decimal numbers (**float**), text strings (**str**), and true/false booleans (**bool**).  Use the **type** command to get the type of any object."
   ]
  },
  {
   "cell_type": "code",
   "execution_count": null,
   "id": "8cc340e0-0d71-4d3c-87a7-d1aa35918a3e",
   "metadata": {},
   "outputs": [],
   "source": [
    "my_int = 2\n",
    "type(my_int)"
   ]
  },
  {
   "cell_type": "code",
   "execution_count": null,
   "id": "e2060c14-8020-4099-863e-2a07008c9744",
   "metadata": {},
   "outputs": [],
   "source": [
    "my_float = 2.1\n",
    "type(my_float)"
   ]
  },
  {
   "cell_type": "code",
   "execution_count": null,
   "id": "0d278709-3b2d-4330-9e5a-32e46bfd44c2",
   "metadata": {},
   "outputs": [],
   "source": [
    "my_str = 'human memory'\n",
    "type(my_str)"
   ]
  },
  {
   "cell_type": "code",
   "execution_count": null,
   "id": "4f58e0ef-a878-46ec-a3c4-2daef2ffb90f",
   "metadata": {},
   "outputs": [],
   "source": [
    "my_bool = True\n",
    "type(my_bool)"
   ]
  },
  {
   "cell_type": "markdown",
   "id": "c5d7bdb2-c9fb-4172-9ebb-fd98bd24af02",
   "metadata": {},
   "source": [
    "We also want to get used to using **Lists**, which allow us to hold several variables/objects.  Lists are denoted by square brackets, with elements separated by commas.  Often, we will create a variable that is an empty list and then append (add) elements to it."
   ]
  },
  {
   "cell_type": "code",
   "execution_count": null,
   "id": "0ec7f339-f260-43e2-8af1-ab18124489ad",
   "metadata": {},
   "outputs": [],
   "source": [
    "# we can make a list using some variables we have already defined\n",
    "my_list = [my_int, my_float]\n",
    "print(my_list)\n",
    "\n",
    "# or we can make an empty list and then append elements to it using the .append() function\n",
    "lst = []\n",
    "print('Empty list prior to appending', lst)\n",
    "lst.append(1)\n",
    "lst.append(2)\n",
    "lst.append(3)\n",
    "lst.append(500)\n",
    "print('List with some items added', lst)"
   ]
  },
  {
   "cell_type": "code",
   "execution_count": null,
   "id": "628784f2-a855-4cd6-a880-0c555f70f9ee",
   "metadata": {},
   "outputs": [],
   "source": [
    "# to get the number of elements in a list, use the len() function\n",
    "length = len(lst)\n",
    "print('length of lst =', length)"
   ]
  },
  {
   "cell_type": "code",
   "execution_count": null,
   "id": "27846ce7-12bd-47a4-8c5f-cb2f3062a2ad",
   "metadata": {},
   "outputs": [],
   "source": [
    "# if we want the element at a specific index of the list, we can do so using the following syntax\n",
    "# note that in python, 0 is the first index (not 1)\n",
    "first_elem = lst[0]\n",
    "third_elem = lst[2]\n",
    "\n",
    "print('first element =', first_elem)\n",
    "print('third element =', third_elem)\n",
    "\n",
    "# we can also index backwards from the end of the list, where the final item has index -1\n",
    "final_elem = lst[-1]\n",
    "\n",
    "print('final element =', final_elem)"
   ]
  },
  {
   "cell_type": "code",
   "execution_count": null,
   "id": "4ddeae92-7e02-4643-9467-8b77ad30d417",
   "metadata": {},
   "outputs": [],
   "source": [
    "# if we want a slice of a list, we can specify the start and end index\n",
    "# the slice includes the start index but not the end index\n",
    "slice1 = lst[1:3]\n",
    "print(slice1)\n",
    "\n",
    "# we can also only indicate the start index (inclusive)\n",
    "slice2 = lst[1:]\n",
    "print(slice2)\n",
    "\n",
    "# or only the end index (exclusive)\n",
    "slice3 = lst[:3]\n",
    "print(slice3)"
   ]
  },
  {
   "cell_type": "markdown",
   "id": "248dae19-27fc-40b9-83d9-adeb8c45d9e0",
   "metadata": {},
   "source": [
    "We can use python to do math.  All basic operations work as expected, and we can use parentheses to enforce order of operation."
   ]
  },
  {
   "cell_type": "code",
   "execution_count": null,
   "id": "04306237-0f6a-4386-9755-4a15100897b7",
   "metadata": {},
   "outputs": [],
   "source": [
    "# we can start by making a few variables\n",
    "a = 10\n",
    "b = 5\n",
    "c = 7\n",
    "d = 3\n",
    "\n",
    "# let's try some simple operations\n",
    "my_sum = a + b + c + d\n",
    "print('my_sum =', my_sum)\n",
    "\n",
    "div = a / b                    # by default, python will return floats from division\n",
    "print('div =', div)\n",
    "\n",
    "# we can also do lots of steps on the same line, just be careful with your parentheses\n",
    "answer = (a + b) * ((c-d) + c*d)\n",
    "print('answer =', answer)"
   ]
  },
  {
   "cell_type": "markdown",
   "id": "e8266da7-79fc-4b63-9f43-db48e8161e1e",
   "metadata": {},
   "source": [
    "### If Statements & For Loops"
   ]
  },
  {
   "cell_type": "markdown",
   "id": "faa989b9-5ba0-440c-a74a-7699fdcb2c0f",
   "metadata": {},
   "source": [
    "The two major pieces of logic we need to understand are **if** statements and **for** loops.  If statements let us run code based on a given condition, while for loops allow us to iterate over some values and repeat a process automatically.  Both follow the specific syntax shown below -- note that indentation is important in python."
   ]
  },
  {
   "cell_type": "code",
   "execution_count": null,
   "id": "01ebb95f-1c55-4370-800b-8b78095bdbc9",
   "metadata": {},
   "outputs": [],
   "source": [
    "# let's start with a simple if statement\n",
    "# in general, the condition must be a boolean (i.e. evaluate to true or false)\n",
    "\n",
    "run_code = True\n",
    "# we condition on whether our variable run_code is true\n",
    "if run_code:\n",
    "    print('computer running code...')"
   ]
  },
  {
   "cell_type": "code",
   "execution_count": null,
   "id": "ef5f7a18-e21b-46fc-9e55-73190c2862e5",
   "metadata": {},
   "outputs": [],
   "source": [
    "# we can also add an \"else\" clause which gets executed when the \"if\" condition is not satisfied\n",
    "password = 'upenn_24'\n",
    "if password == 'UPenn_25':\n",
    "    print('correct password')\n",
    "else:\n",
    "    print('incorrect password')"
   ]
  },
  {
   "cell_type": "code",
   "execution_count": null,
   "id": "6969a658-7097-4799-8c74-382370ead285",
   "metadata": {},
   "outputs": [],
   "source": [
    "# finally, we can use \"elif\" to add further branches\n",
    "school = 'Nursing'\n",
    "if school == 'SAS':\n",
    "    print('degree = BA')\n",
    "elif school == 'SEAS':\n",
    "    print('degree = BS')\n",
    "elif school == 'Wharton':\n",
    "    print('degree = BSE')\n",
    "elif school == 'Nursing':\n",
    "    print('degree = BSN')\n",
    "else:\n",
    "    print('sure you go to Penn?')"
   ]
  },
  {
   "cell_type": "code",
   "execution_count": null,
   "id": "d6b311f3-0766-4317-886f-27af4987a634",
   "metadata": {},
   "outputs": [],
   "source": [
    "# note that we can use \"!=\" for not equals\n",
    "my_number = 19\n",
    "if my_number != 13:\n",
    "    print('Lucky Number')\n",
    "else:\n",
    "    print('Unlucky Number')"
   ]
  },
  {
   "cell_type": "code",
   "execution_count": null,
   "id": "1efdb888-f701-4f90-9135-8b63c2c85a48",
   "metadata": {},
   "outputs": [],
   "source": [
    "# we can have multiple conditions in the same if statement\n",
    "x1 = 3\n",
    "x2 = 10\n",
    "\n",
    "# \"and\" = all conditions must be true\n",
    "if x1 == 3 and x2 == 7:\n",
    "    print('and = true')\n",
    "else:\n",
    "    print('and = false')\n",
    "    \n",
    "# \"or\" = 1 condition must be true\n",
    "if x1 == 5 or x2 == 10:\n",
    "    print('or = true')\n",
    "else:\n",
    "    print('or = false')"
   ]
  },
  {
   "cell_type": "code",
   "execution_count": null,
   "id": "c5ffcd83-ec61-4af1-a789-93cf68a196c4",
   "metadata": {},
   "outputs": [],
   "source": [
    "# now let's try a for loop\n",
    "# for example, say we want to loop over all the items in \"lst,\" the list we defined above, and print out each element\n",
    "print(lst)\n",
    "for elem in lst:         # each iteration, the variable \"elem\" gets assigned to the next element in \"lst:\n",
    "    print(elem)"
   ]
  },
  {
   "cell_type": "code",
   "execution_count": null,
   "id": "afc79fce-91dd-4dc6-a171-2a84fbb40fc6",
   "metadata": {},
   "outputs": [],
   "source": [
    "# we can also use the range() function to loop over the list\n",
    "print(lst)\n",
    "for i in range(len(lst)):                       # each iteration, the variable \"i\" gets assgined to the next index of the list\n",
    "    print('index =', i, 'element =', lst[i])    # we can use the index to grab each element"
   ]
  },
  {
   "cell_type": "code",
   "execution_count": null,
   "id": "6609aadc-47ea-43b2-9af7-4daf68ed2273",
   "metadata": {},
   "outputs": [],
   "source": [
    "# we can use a for loop to sum up all of the element in our list\n",
    "total = 0                      # define our total outside of the for loop, so that it doesn't get reassigned each iteration\n",
    "for i in range(len(lst)):\n",
    "    total += lst[i]            # \"+=\" is equivalent to writing total = total + lst[i]\n",
    "\n",
    "print('total =', total)"
   ]
  },
  {
   "cell_type": "markdown",
   "id": "7dffc6ad-d96d-4af8-984a-27b5891409d9",
   "metadata": {},
   "source": [
    "### Functions"
   ]
  },
  {
   "cell_type": "markdown",
   "id": "f37bc467-6365-4b9c-b841-4adb18a96e60",
   "metadata": {},
   "source": [
    "User-defined functions are super useful in python.  At their core, functions take in a set of inputs (called \"arguments\" in codespeak), run some code, and return some outputs.  Importantly, functions allow us to do some \"abstraction\" (again, codespeak), which essentially means instead of having to repeatedly write the same code, we can put it in a function and just call the function."
   ]
  },
  {
   "cell_type": "code",
   "execution_count": null,
   "id": "d1000859-5d9c-4292-830d-bdba4a258072",
   "metadata": {},
   "outputs": [],
   "source": [
    "# first, we define our function\n",
    "# we'll name this 'fxn', but the name cane be whatever you want (make it informative)\n",
    "# we can give our function inputs (here we give it x1 and x2)\n",
    "# and then return outputs (here we return tot)\n",
    "\n",
    "def fxn(x1, x2):\n",
    "    # we want our function to return the sum of the inputs\n",
    "    tot = x1 + x2\n",
    "    return tot"
   ]
  },
  {
   "cell_type": "code",
   "execution_count": null,
   "id": "742b317b-356c-4f31-aca6-01bbc76d60d7",
   "metadata": {},
   "outputs": [],
   "source": [
    "# now let's call our function and store what it returns\n",
    "result = fxn(10, 20)\n",
    "print(result)\n",
    "\n",
    "# we can also pass in variables as arguments\n",
    "# here let's give our function 2 elements from our list\n",
    "print(lst)\n",
    "result = fxn(lst[0], lst[2])\n",
    "print(result)"
   ]
  },
  {
   "cell_type": "code",
   "execution_count": null,
   "id": "7d21a15c-5bd0-4712-adbe-7e7ba9d4c91d",
   "metadata": {},
   "outputs": [],
   "source": [
    "# now let's write a function that will find the smallest number in a list\n",
    "def small_lst(lst):\n",
    "    small = lst[0]                     # the current smallest item is the first element\n",
    "    for i in range(len(lst)):          # loop over the elements in the list\n",
    "        if lst[i] < small:             # check if current item is smaller than the current smallest\n",
    "            small = lst[i]             # if so, update the smallest\n",
    "            \n",
    "    return small"
   ]
  },
  {
   "cell_type": "code",
   "execution_count": null,
   "id": "530844c5-4317-486b-a9ac-d4cb4b127ab6",
   "metadata": {},
   "outputs": [],
   "source": [
    "# let's define a list and hand it to our function\n",
    "lst = [10, 50, 30, 40, 70, 90, 100, 110, 5, 45, 60]\n",
    "small = small_lst(lst)\n",
    "print(small)"
   ]
  },
  {
   "cell_type": "markdown",
   "id": "759cb613-ce01-4fdf-b9b7-47c4e3e91b90",
   "metadata": {},
   "source": [
    "### Numpy, Pandas, Matplotlib"
   ]
  },
  {
   "cell_type": "markdown",
   "id": "27994e6f-c5bf-411b-b7ca-ac8cffd59ea1",
   "metadata": {},
   "source": [
    "Python makes use of lots of \"packages,\" which essentially contain pre-written functions that you can call, saving you from having to do lots of manual coding.  In order to make use of the functions in these packages, we must first import them.  "
   ]
  },
  {
   "cell_type": "code",
   "execution_count": null,
   "id": "7babe4d6-b975-4ece-a9e8-efb7039d52f7",
   "metadata": {},
   "outputs": [],
   "source": [
    "# imports\n",
    "import numpy as np                   # we use numpy arrays to do math\n",
    "import pandas as pd                  # we use pandas dataframes to work with tabular data\n",
    "import matplotlib.pyplot as plt      # we use matplotlib for graphing\n",
    "%matplotlib inline"
   ]
  },
  {
   "cell_type": "markdown",
   "id": "a09002d4-7f3a-45a9-9a75-d7ea7780a1bb",
   "metadata": {},
   "source": [
    "### Numpy\n",
    "Numpy arrays are much like lists, except they are of fixed size and they allow us to do some more advanced mathematical operations."
   ]
  },
  {
   "cell_type": "code",
   "execution_count": null,
   "id": "72c0102e-9ed3-49cf-9444-efe2830e9f50",
   "metadata": {},
   "outputs": [],
   "source": [
    "# define a numpy array from a list\n",
    "lst = [1, 2, 3, 4]\n",
    "arr = np.array(lst)\n",
    "print(arr)"
   ]
  },
  {
   "cell_type": "code",
   "execution_count": null,
   "id": "71a2592d-faba-47b9-8501-bbdcce9007a9",
   "metadata": {},
   "outputs": [],
   "source": [
    "# mathematical operations on a numpy array will apply to all elements\n",
    "arr2 = arr + 1\n",
    "print(arr2)"
   ]
  },
  {
   "cell_type": "code",
   "execution_count": null,
   "id": "94c0e39d-f975-451a-8070-09f0a1b63485",
   "metadata": {},
   "outputs": [],
   "source": [
    "# mathematical operations between numpy arrays work elementwise\n",
    "# addition\n",
    "arr3 = arr + arr2\n",
    "print(arr3)\n",
    "\n",
    "# multiplication\n",
    "arr4 = arr * arr2\n",
    "print(arr4)"
   ]
  },
  {
   "cell_type": "code",
   "execution_count": null,
   "id": "ea22c044-bee0-4cda-a2b3-c886cb0ca526",
   "metadata": {},
   "outputs": [],
   "source": [
    "# we have some handy ways of making numpy arrays\n",
    "# all zeros\n",
    "zeros = np.zeros(5)\n",
    "print(zeros)\n",
    "\n",
    "# range from 0 to n - 1\n",
    "a = np.arange(0, 10)\n",
    "print(a)"
   ]
  },
  {
   "cell_type": "code",
   "execution_count": null,
   "id": "0f866d68-f81b-4081-bcfc-51aab38fac4c",
   "metadata": {},
   "outputs": [],
   "source": [
    "# again, we can index arrays as we did with lists\n",
    "first_elem = a[0]\n",
    "print(first_elem)\n",
    "last_elem = a[-1]\n",
    "print(last_elem)\n",
    "\n",
    "# and slice arrays as we did with lists\n",
    "arr_slice = a[3:7]\n",
    "print(arr_slice)"
   ]
  },
  {
   "cell_type": "code",
   "execution_count": null,
   "id": "36bab46b-ccb5-48ba-85bf-f11e4eab886b",
   "metadata": {},
   "outputs": [],
   "source": [
    "# also, the numpy package offers some handy built-in functions\n",
    "# mean\n",
    "mean = np.mean(arr2)\n",
    "print(mean)\n",
    "\n",
    "# standard deviation\n",
    "stdev = np.std(arr2)\n",
    "print(stdev)\n",
    "\n",
    "# maximum value\n",
    "max_val = np.max(arr2)\n",
    "print(max_val)"
   ]
  },
  {
   "cell_type": "markdown",
   "id": "a28a953f-e9ba-4d1e-9dc4-39fdbf6ec4ab",
   "metadata": {},
   "source": [
    "#### Pandas\n",
    "Pandas dataframes allow us to store and parse tabular data.  You can think of pandas as a python version of excel."
   ]
  },
  {
   "cell_type": "code",
   "execution_count": null,
   "id": "0d66e27c-1950-4869-ace4-6ac58930d5d4",
   "metadata": {},
   "outputs": [],
   "source": [
    "# don't worry about the details here, just run this cell to build an example dataframe\n",
    "\n",
    "x = [1, 2, 3, 5, 7, 10, 11, 12, 14, 17, 19]\n",
    "y = [100, 56, 73, 124, 74, 73, 89, 92, 110, 108, 132]\n",
    "z = [90, 101, 90, 90, 90, 65, 90, 90, 110, 90, 90]\n",
    "bl = [True, True, False, True, False, True, True, False, False, False, True]\n",
    "\n",
    "df = pd.DataFrame()\n",
    "df['x'] = x; df['y'] = y; df['z'] = z; df['bl'] = bl\n",
    "df"
   ]
  },
  {
   "cell_type": "code",
   "execution_count": null,
   "id": "020b418c-a469-4433-b281-35a6408062da",
   "metadata": {},
   "outputs": [],
   "source": [
    "# as we can see above, the dataframe has a number of columns, or fields\n",
    "# one of the first things we may want to do with our data is select a certain field\n",
    "\n",
    "# select the y data using the following syntax\n",
    "y_data = df['y']\n",
    "y_data"
   ]
  },
  {
   "cell_type": "code",
   "execution_count": null,
   "id": "f3fa22c6-13b5-4755-a4ed-2c1a1d415d2c",
   "metadata": {},
   "outputs": [],
   "source": [
    "# that gave us a pandas series\n",
    "# we can make this data more useful to us (or at least more familiar) by transforming it to a list or an array\n",
    "y_list = list(y_data)\n",
    "print(y_list)\n",
    "\n",
    "y_arr = np.array(y_data)\n",
    "print(y_arr)"
   ]
  },
  {
   "cell_type": "code",
   "execution_count": null,
   "id": "b96a5106-9d42-4f19-8489-2f903b637a71",
   "metadata": {},
   "outputs": [],
   "source": [
    "# the other thing we will often need to do is filter the data based on some condition\n",
    "# for example, what if we only want rows where 'bl' is True\n",
    "# we filter with the following syntax\n",
    "# we want to start with 'df' and condition on whether the 'bl' field of 'df' is True\n",
    "all_true = df[df['bl'] == True]\n",
    "all_true"
   ]
  },
  {
   "cell_type": "code",
   "execution_count": null,
   "id": "27ffd2fd-545d-4011-b8c4-c953207b0b8b",
   "metadata": {},
   "outputs": [],
   "source": [
    "# now let's filter this data for the rows where 'y' is greater than 90\n",
    "# notice that we are now filtering 'all_true' instead of 'df'\n",
    "great_y = all_true[all_true['y'] > 90]\n",
    "great_y"
   ]
  },
  {
   "cell_type": "code",
   "execution_count": null,
   "id": "3bcf8954-ac4e-4f6f-874d-40d7232e1cd5",
   "metadata": {},
   "outputs": [],
   "source": [
    "# finally, using this data, let's find the average 'x' value\n",
    "# we select the field, convert it to a list, and use a numpy function\n",
    "x_data = list(great_y['x'])\n",
    "print(x_data)\n",
    "\n",
    "x_mean = np.mean(x_data)\n",
    "print(x_mean)"
   ]
  },
  {
   "cell_type": "code",
   "execution_count": null,
   "id": "680472b0-dac4-4295-a0c1-8e7e67502e69",
   "metadata": {},
   "outputs": [],
   "source": [
    "# we can also filter on multiple conditions at once\n",
    "# for each condition, we just need to add parentheses () to our filtering syntax\n",
    "# and use the following symbols for logic: '&' = and, '|' = or\n",
    "\n",
    "# starting from df, let's get rows where 'bl' is False AND 'y' is less than 90\n",
    "false_bl_and_small_y = df[(df['bl'] == False) & (df['y'] < 90)]\n",
    "false_bl_and_small_y"
   ]
  },
  {
   "cell_type": "code",
   "execution_count": null,
   "id": "88d4d273-9c00-4350-bf89-342e489bcbbb",
   "metadata": {},
   "outputs": [],
   "source": [
    "# how about rows where 'bl' is False OR 'y' is less than 90\n",
    "false_bl_or_small_y = df[(df['bl'] == False) | (df['y'] < 90)]\n",
    "false_bl_or_small_y"
   ]
  },
  {
   "cell_type": "markdown",
   "id": "a008ccd7-c221-4365-920a-4772847feb2d",
   "metadata": {},
   "source": [
    "##### Matplotlib\n",
    "Matplotlib allows us to make graphs to visualize our data."
   ]
  },
  {
   "cell_type": "code",
   "execution_count": null,
   "id": "683ef6a8-cca0-45d0-a958-ad9065bd6d2a",
   "metadata": {},
   "outputs": [],
   "source": [
    "# for all of our graphs, we will be plotting some independent variable with some dependent variable\n",
    "\n",
    "# IV\n",
    "x = np.linspace(1, 10, 10)\n",
    "print(x)\n",
    "\n",
    "# DV\n",
    "y = [10, 23, 6, 15, 28, 23, 12, 25, 14, 33]\n",
    "\n",
    "# in our plot statement, put the IV first, the DV second, and make sure the two are the same shape!\n",
    "plt.plot(x, y)\n",
    "\n",
    "# we can also add labels to our plot\n",
    "plt.xlabel('x')\n",
    "plt.ylabel('y')\n",
    "plt.title('matplotlib graph')\n",
    "\n",
    "# show our plot\n",
    "plt.show()"
   ]
  },
  {
   "cell_type": "code",
   "execution_count": null,
   "id": "ede6233f-0bd5-458d-80a1-7e02867b30b2",
   "metadata": {},
   "outputs": [],
   "source": [
    "# we can also put multiple graphs on the same plot --> be sure to add a legend\n",
    "\n",
    "# specify the color and the legend label\n",
    "plt.plot(x, y, color='purple', label='first_curve')\n",
    "plt.plot(x, np.array(y) + 3, color='orange', label='second_curve')\n",
    "\n",
    "# add the legend\n",
    "plt.legend()\n",
    "\n",
    "plt.show()"
   ]
  },
  {
   "cell_type": "markdown",
   "id": "8ae05b0e-51f6-4c0b-959f-74f91a605fa3",
   "metadata": {},
   "source": [
    "## Problems\n",
    "\n",
    "Now let's get some practice writing python code to answer the questions below.  First, make sure you have downloaded the python_intro_files folder (that contains 'Example_Penn_Data.csv') and put it in the same folder as this notebook.  Run the below cell to load the data."
   ]
  },
  {
   "cell_type": "code",
   "execution_count": null,
   "id": "dd3dc0e7-f974-409f-8e9b-f4e067cafe2d",
   "metadata": {},
   "outputs": [],
   "source": [
    "data = pd.read_csv('python_intro_files/Example_Penn_Data.csv')\n",
    "data"
   ]
  },
  {
   "cell_type": "markdown",
   "id": "6e92b649-a9c3-4d0a-9d1e-46a5aa2e7896",
   "metadata": {},
   "source": [
    "### Overview of the Data\n",
    "\n",
    "For the questions in this notebook, you will by analyzing some made up data on the difference degrees offered at Penn (don't use this as a guide for what major to declare!).  The columns, or fields (codespeak), are as follows:\n",
    "\n",
    "- School = which of Penn's four undergraduate schools\n",
    "- Major = name of degree program\n",
    "- Course_Units = number of CUs required to graduate\n",
    "- PhD = 1 if department offers a PhD program, 0 if not\n",
    "- Intro_101 = 1 if department offers an introductory course, 0 if not\n",
    "- Class_Size = number of students in the previous graduating class"
   ]
  },
  {
   "cell_type": "markdown",
   "id": "8c4257d0-cef2-43bc-8b47-eebe78f8107f",
   "metadata": {},
   "source": [
    "### Question 1\n",
    "\n",
    "For degrees from the College of Arts and Sciences, what is the average number of CUs required to graduate?  Is this more or less than the average for the other three schools combined?"
   ]
  },
  {
   "cell_type": "code",
   "execution_count": null,
   "id": "c7378b8d-4ef6-4242-842c-e94d2688139f",
   "metadata": {},
   "outputs": [],
   "source": [
    "### YOUR CODE HERE\n"
   ]
  },
  {
   "cell_type": "markdown",
   "id": "c0287aca-6fde-426c-8369-81eb4d4ee79d",
   "metadata": {},
   "source": [
    "### Question 2\n",
    "\n",
    "How many departments with a class size of under 30 offer a PhD program?  How many departments with a class size over 50 do not offer at PhD program?"
   ]
  },
  {
   "cell_type": "code",
   "execution_count": null,
   "id": "2272bf36-ce24-44a8-97a2-d4cc9c7a2f01",
   "metadata": {},
   "outputs": [],
   "source": [
    "### YOUR CODE HERE\n"
   ]
  },
  {
   "cell_type": "markdown",
   "id": "82b0e02b-67ed-451c-86fa-aff42e271e83",
   "metadata": {},
   "source": [
    "### Question 3\n",
    "\n",
    "For each school, what percentage of the programs offer an introductory course?"
   ]
  },
  {
   "cell_type": "code",
   "execution_count": null,
   "id": "08998e26-1bff-44e9-8db1-0cbdb1c1eca0",
   "metadata": {},
   "outputs": [],
   "source": [
    "### YOUR CODE HERE\n"
   ]
  },
  {
   "cell_type": "markdown",
   "id": "d08904c4-2ad8-4b76-ae82-38af7dde1035",
   "metadata": {},
   "source": [
    "### Question 4\n",
    "\n",
    "Make a bar chart that plots the school on the x-axis and the average class size across all degrees in the school on the y-axis.  Make sure to label your axes."
   ]
  },
  {
   "cell_type": "code",
   "execution_count": null,
   "id": "d93ee3ef-099d-4834-935b-52d1f46f4bd1",
   "metadata": {},
   "outputs": [],
   "source": [
    "### YOUR CODE HERE\n"
   ]
  },
  {
   "cell_type": "code",
   "execution_count": null,
   "id": "4ffa5299-5763-4bf2-adf2-265d8b340418",
   "metadata": {},
   "outputs": [],
   "source": []
  }
 ],
 "metadata": {
  "kernelspec": {
   "display_name": "bids",
   "language": "python",
   "name": "bids"
  },
  "language_info": {
   "codemirror_mode": {
    "name": "ipython",
    "version": 3
   },
   "file_extension": ".py",
   "mimetype": "text/x-python",
   "name": "python",
   "nbconvert_exporter": "python",
   "pygments_lexer": "ipython3",
   "version": "3.11.4"
  }
 },
 "nbformat": 4,
 "nbformat_minor": 5
}
