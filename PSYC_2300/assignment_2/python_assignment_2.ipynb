{
 "cells": [
  {
   "cell_type": "markdown",
   "id": "4d9f37ca-06e2-4e19-90cb-9df542f12e68",
   "metadata": {},
   "source": [
    "# Assignment 2: Recognition Memory\n",
    "Please submit this assignment to Canvas as a jupyter notebook (.ipynb).  The assignment will have you complete several data analyses of a continuous recognition experiment."
   ]
  },
  {
   "cell_type": "markdown",
   "id": "28cb3b35-9def-4125-8f26-514a497d9443",
   "metadata": {},
   "source": [
    "## Assignment Overview:\n",
    "A few items to note in recognition memory analyses.\n",
    "\n",
    "#### Hits, False Alarms, Misses, and Correct Rejections\n",
    "In the continuous recognition paradigm, each trial you are asked to determine if an item is old or new.  We can define each response as one of the following:\n",
    "* Hit = say \"old\", actual old\n",
    "* False Alarm = say \"old\", actual new\n",
    "* Miss = say \"new\", actual old\n",
    "* Correct Rejection = say \"new\", actual new\n",
    "\n",
    "#### ROC curve\n",
    "In the ROC curve, we want to plot Hit Rate (y-axis) and False Alarm Rate (x-axis) as a function of confidence threshold.  That means that each (x,y) point on the curve will correspond to the (HR, FAR) for a different chosen confidence threshold.  If we have 8 confidence thresholds, we should have 8 points on the curve.\n",
    "\n",
    "#### Between-Subjects Average\n",
    "In psychology, we often choose to treat subjects (i.e. each individual that participates in the experiment) as independent when we do our statistics.  So, when we calculate means of our data, we want a between-subjects average.  In other words, we do the analysis for each subject to get an average for each subject, and then calculate the average of those averages.\n",
    "\n",
    "For example, say we had 3 subjects with scores of: $\\frac{4}{10}$, $\\frac{10}{20}$, and $\\frac{36}{40}$.  We want to report a bewteen-subjects average of $\\frac{0.4 + 0.5 + 0.9}{3} = 0.6$ instead of $\\frac{4 + 10 + 36}{10 + 20 + 40} = 0.714$.  This way, our results aren't biased towards subjects with more data."
   ]
  },
  {
   "cell_type": "code",
   "execution_count": null,
   "id": "d5926b42-c67c-41ae-af1b-3d4b9d990adb",
   "metadata": {},
   "outputs": [],
   "source": [
    "# imports\n",
    "import pandas as pd; pd.set_option('display.max_columns', None)\n",
    "import numpy as np\n",
    "import matplotlib.pyplot as plt\n",
    "%matplotlib inline"
   ]
  },
  {
   "cell_type": "code",
   "execution_count": null,
   "id": "b329fe5a-6517-44b0-bace-97582b8369cd",
   "metadata": {},
   "outputs": [],
   "source": [
    "# load in unique data set\n",
    "data = pd.read_csv('dataset_assignment2_x.csv')"
   ]
  },
  {
   "cell_type": "markdown",
   "id": "92f925ff-229d-4986-8d0b-4cc3a60af212",
   "metadata": {
    "tags": []
   },
   "source": [
    "## Question 1\n",
    "For the first 5 subjects in your data set (i.e., the ones with the five lowest subject IDs), calculate a ROC curve for each subject and plot the resulting curves.  Include all 5 curves on a single plot with a legend showing the subject indices (which may not be number 1 to 5 since you have ben given a random subset of the subjects to analyze)."
   ]
  },
  {
   "cell_type": "code",
   "execution_count": 3,
   "id": "22a50936-b246-4989-b79c-30c88180c995",
   "metadata": {},
   "outputs": [],
   "source": [
    "# Question 1\n",
    "### YOUR CODE HERE"
   ]
  },
  {
   "cell_type": "code",
   "execution_count": null,
   "id": "2e50a302-8e67-4eb4-acaf-542999dd6746",
   "metadata": {},
   "outputs": [],
   "source": [
    "# Question 1\n",
    "### YOUR GRAPH HERE"
   ]
  },
  {
   "cell_type": "markdown",
   "id": "8658dd76-5648-4474-b8eb-45b1dc367896",
   "metadata": {},
   "source": [
    "## Question 2\n",
    "Calculate a between-subject average ROC curve, averaged across all subjects.  To produce the average ROC, first calculate the HR and FAR *for each individual subject* and then average across subjects."
   ]
  },
  {
   "cell_type": "code",
   "execution_count": 7,
   "id": "82e34861-5873-46df-93ff-52ec2da7a9ed",
   "metadata": {},
   "outputs": [],
   "source": [
    "# Question 2\n",
    "### YOUR CODE HERE"
   ]
  },
  {
   "cell_type": "code",
   "execution_count": 8,
   "id": "ffde54a6-3995-4df1-ba9c-707fdeeab755",
   "metadata": {},
   "outputs": [],
   "source": [
    "# Question 2\n",
    "### YOUR GRAPH HERE"
   ]
  },
  {
   "cell_type": "markdown",
   "id": "07376595-09f9-4fcf-82f1-07c5aedbc22d",
   "metadata": {},
   "source": [
    "## Question 3\n",
    "Averaged across all subjects (i.e., \"between-subject average\"), plot the hit rate as a function of study-test lag."
   ]
  },
  {
   "cell_type": "code",
   "execution_count": 9,
   "id": "01a6a243-1f9e-42a9-abc7-5cd1a49cfa36",
   "metadata": {},
   "outputs": [],
   "source": [
    "# Question 3\n",
    "### YOUR CODE HERE"
   ]
  },
  {
   "cell_type": "code",
   "execution_count": 10,
   "id": "4f7cceb3-bd31-4834-bc27-09a90c726b60",
   "metadata": {},
   "outputs": [],
   "source": [
    "# Question 3\n",
    "### YOUR GRAPH HERE"
   ]
  },
  {
   "cell_type": "markdown",
   "id": "3c1dbe43-5fa9-4ce7-bc1c-374c3eaca3c1",
   "metadata": {},
   "source": [
    "## Question 4\n",
    "Averaged across all subjects (i.e., \"between-subject average\"), plot the hit rate as a function of study-test lag."
   ]
  },
  {
   "cell_type": "code",
   "execution_count": 11,
   "id": "a16fadc4-e7ef-44a6-ac74-1475c7653735",
   "metadata": {},
   "outputs": [],
   "source": [
    "# Question 4\n",
    "### YOUR CODE HERE"
   ]
  },
  {
   "cell_type": "markdown",
   "id": "cf07dcd8-66ce-48e0-a111-f856d3441196",
   "metadata": {},
   "source": [
    "Question 4\n",
    "\n",
    "**YOUR ANSWER HERE**"
   ]
  }
 ],
 "metadata": {
  "kernelspec": {
   "display_name": "bids",
   "language": "python",
   "name": "bids"
  },
  "language_info": {
   "codemirror_mode": {
    "name": "ipython",
    "version": 3
   },
   "file_extension": ".py",
   "mimetype": "text/x-python",
   "name": "python",
   "nbconvert_exporter": "python",
   "pygments_lexer": "ipython3",
   "version": "3.11.4"
  }
 },
 "nbformat": 4,
 "nbformat_minor": 5
}
