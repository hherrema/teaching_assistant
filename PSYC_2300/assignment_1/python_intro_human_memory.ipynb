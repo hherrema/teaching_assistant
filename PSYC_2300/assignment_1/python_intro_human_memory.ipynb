{
 "cells": [
  {
   "cell_type": "markdown",
   "id": "fa3608e3-5506-46d5-a60e-43a126b5d14b",
   "metadata": {},
   "source": [
    "# Python Introduction for Human Memory"
   ]
  },
  {
   "cell_type": "markdown",
   "id": "6507335d-47bd-449b-9b91-b9703c5cd7be",
   "metadata": {},
   "source": [
    "First things first, let's introduce what exactly you are looking at.  This interface is a jupyter notebook, which is going to be our workspace for all of our data analysis.  In a notebook, you can do lots, but most importantly you can write and run code which will load, analyze, and graph data."
   ]
  },
  {
   "cell_type": "markdown",
   "id": "4f87875d-7feb-4703-a655-71441e6bcbdf",
   "metadata": {},
   "source": [
    "### Let's get working with python"
   ]
  },
  {
   "cell_type": "markdown",
   "id": "00167be7-bc43-43e9-b053-d42bacb7fec6",
   "metadata": {},
   "source": [
    "Python is a programming language, much like any other you may have heard of or used in a class/for research.  At its core, we write a series of commands in a syntax that the computer understands, and then the computer will execute those commands for us."
   ]
  },
  {
   "cell_type": "code",
   "execution_count": 2,
   "id": "36b9ebaf-5ff7-463a-b2a0-57f41c786b09",
   "metadata": {},
   "outputs": [
    {
     "name": "stdout",
     "output_type": "stream",
     "text": [
      "x = 3\n"
     ]
    },
    {
     "data": {
      "text/plain": [
       "3"
      ]
     },
     "execution_count": 2,
     "metadata": {},
     "output_type": "execute_result"
    }
   ],
   "source": [
    "# anything that follows a \"#\" will be a comment, which does not get run as code and we use to annotate our code\n",
    "\n",
    "# we can define and assign variables using \"=\"\n",
    "x = 3\n",
    "\n",
    "# we can check the value assigned to a variable either by printing\n",
    "print('x =', x)\n",
    "\n",
    "# or simply by typing the object as the last line of a cell\n",
    "x"
   ]
  },
  {
   "cell_type": "code",
   "execution_count": 3,
   "id": "c30453c1-56f0-4ddf-a687-9757fde55b18",
   "metadata": {},
   "outputs": [
    {
     "name": "stdout",
     "output_type": "stream",
     "text": [
      "acceleration due to gravity = 9.81\n"
     ]
    }
   ],
   "source": [
    "# variable names can be anything, but it is good practice to make them informative\n",
    "my_variable = 9.81\n",
    "g = 9.81\n",
    "print('acceleration due to gravity =', g)"
   ]
  },
  {
   "cell_type": "code",
   "execution_count": 4,
   "id": "9526f3bf-a135-409d-9021-3841aa9f301f",
   "metadata": {},
   "outputs": [
    {
     "name": "stdout",
     "output_type": "stream",
     "text": [
      "x == 4? False\n",
      "x == 3? True\n"
     ]
    }
   ],
   "source": [
    "# since \"=\" is used for assignment, we use a double \"==\" to check for equality\n",
    "print('x == 4?', x == 4)\n",
    "print('x == 3?', x == 3)"
   ]
  },
  {
   "cell_type": "markdown",
   "id": "c99fcd75-7410-4c75-b44d-dfb2867c57dc",
   "metadata": {},
   "source": [
    "This brings us to some characteristics of a jupyter notebook.  Above, I mentioned a \"cell,\" which is essentially just a block of code.  We can run a single cell by pressing **SHIFT + ENTER**.  While a cell is running, there will be a \"\\*\" at the top left corner of the cell, and once the cell has run, there will be a number indicating the order in which cells have been run.  To create a new cell above or below the currently selected cell, press **a** or **b**, respectively, and to delete a cell, double tap **d**."
   ]
  },
  {
   "cell_type": "code",
   "execution_count": 5,
   "id": "638fd92b-2041-458b-a657-8c2d80cc0821",
   "metadata": {},
   "outputs": [
    {
     "name": "stdout",
     "output_type": "stream",
     "text": [
      "old x = 3\n",
      "y = 3\n",
      "reassigned x = 5\n",
      "y does not change 3\n"
     ]
    }
   ],
   "source": [
    "# the order in which cells are run are important because variables can be reassigned\n",
    "# not realizing you have reassigned a variable or doing so in the wrong order can be the cause of lots of errors\n",
    "print('old x =', x)\n",
    "\n",
    "# let's declare and assign a new variable y\n",
    "y = x\n",
    "print('y =', y)\n",
    "\n",
    "# now we reassign x, but be wary becuase this does NOT also update y\n",
    "x = 5\n",
    "print('reassigned x =', x)\n",
    "print('y does not change', y)                      # if you run this cell again, see what happens to y"
   ]
  },
  {
   "cell_type": "markdown",
   "id": "4811061a-13d9-4428-aeb7-7837e7c824e4",
   "metadata": {},
   "source": [
    "In python, there are numerous datatypes.  The important ones for us are integers (**int**), decimal numbers (**float**), text strings (**str**), and true/false booleans (**bool**).  Use the **type** command to get the type of any object."
   ]
  },
  {
   "cell_type": "code",
   "execution_count": 6,
   "id": "8cc340e0-0d71-4d3c-87a7-d1aa35918a3e",
   "metadata": {},
   "outputs": [
    {
     "data": {
      "text/plain": [
       "int"
      ]
     },
     "execution_count": 6,
     "metadata": {},
     "output_type": "execute_result"
    }
   ],
   "source": [
    "my_int = 2\n",
    "type(my_int)"
   ]
  },
  {
   "cell_type": "code",
   "execution_count": 7,
   "id": "e2060c14-8020-4099-863e-2a07008c9744",
   "metadata": {},
   "outputs": [
    {
     "data": {
      "text/plain": [
       "float"
      ]
     },
     "execution_count": 7,
     "metadata": {},
     "output_type": "execute_result"
    }
   ],
   "source": [
    "my_float = 2.1\n",
    "type(my_float)"
   ]
  },
  {
   "cell_type": "code",
   "execution_count": 8,
   "id": "0d278709-3b2d-4330-9e5a-32e46bfd44c2",
   "metadata": {},
   "outputs": [
    {
     "data": {
      "text/plain": [
       "str"
      ]
     },
     "execution_count": 8,
     "metadata": {},
     "output_type": "execute_result"
    }
   ],
   "source": [
    "my_str = 'human memory'\n",
    "type(my_str)"
   ]
  },
  {
   "cell_type": "code",
   "execution_count": 9,
   "id": "4f58e0ef-a878-46ec-a3c4-2daef2ffb90f",
   "metadata": {},
   "outputs": [
    {
     "data": {
      "text/plain": [
       "bool"
      ]
     },
     "execution_count": 9,
     "metadata": {},
     "output_type": "execute_result"
    }
   ],
   "source": [
    "my_bool = True\n",
    "type(my_bool)"
   ]
  },
  {
   "cell_type": "markdown",
   "id": "c5d7bdb2-c9fb-4172-9ebb-fd98bd24af02",
   "metadata": {},
   "source": [
    "We also want to get used to using **Lists**, which allow us to hold several variables/objects.  Lists are denoted by square bracked, with elements separated by commas.  Often, we will create a variable that is an empty list and then append (add) elements to it."
   ]
  },
  {
   "cell_type": "code",
   "execution_count": 10,
   "id": "0ec7f339-f260-43e2-8af1-ab18124489ad",
   "metadata": {},
   "outputs": [
    {
     "name": "stdout",
     "output_type": "stream",
     "text": [
      "[2, 2.1]\n",
      "[1, 2, 3, 500]\n"
     ]
    }
   ],
   "source": [
    "# we can make a list using some variables we have already defined\n",
    "my_list = [my_int, my_float]\n",
    "print(my_list)\n",
    "\n",
    "# or we can make an empty list and then append elements to it using the .append() function\n",
    "lst = []\n",
    "lst.append(1)\n",
    "lst.append(2)\n",
    "lst.append(3)\n",
    "lst.append(500)\n",
    "print(lst)"
   ]
  },
  {
   "cell_type": "code",
   "execution_count": 11,
   "id": "628784f2-a855-4cd6-a880-0c555f70f9ee",
   "metadata": {},
   "outputs": [
    {
     "name": "stdout",
     "output_type": "stream",
     "text": [
      "length of lst = 4\n"
     ]
    }
   ],
   "source": [
    "# to get the number of elements in a list, use the len() function\n",
    "length = len(lst)\n",
    "print('length of lst =', length)"
   ]
  },
  {
   "cell_type": "code",
   "execution_count": 12,
   "id": "27846ce7-12bd-47a4-8c5f-cb2f3062a2ad",
   "metadata": {},
   "outputs": [
    {
     "name": "stdout",
     "output_type": "stream",
     "text": [
      "first index = 1\n"
     ]
    }
   ],
   "source": [
    "# if we want the element at a specific index of the list, we can do so using the following syntax\n",
    "# not that in python, 0 is the first index (not 1)\n",
    "first_elem = lst[0]\n",
    "third_elem = lst[2]\n",
    "\n",
    "print('first index =', first_elem)"
   ]
  },
  {
   "cell_type": "markdown",
   "id": "248dae19-27fc-40b9-83d9-adeb8c45d9e0",
   "metadata": {},
   "source": [
    "We can use python to do math.  All basic operations work as expected, and we can use parentheses to enforce order of operation."
   ]
  },
  {
   "cell_type": "code",
   "execution_count": 13,
   "id": "04306237-0f6a-4386-9755-4a15100897b7",
   "metadata": {},
   "outputs": [
    {
     "name": "stdout",
     "output_type": "stream",
     "text": [
      "my_sum = 25\n",
      "div = 2.0\n",
      "answer = 375\n"
     ]
    }
   ],
   "source": [
    "# we can start by making a few variables\n",
    "a = 10\n",
    "b = 5\n",
    "c = 7\n",
    "d = 3\n",
    "\n",
    "# let's try some simple operations\n",
    "my_sum = a + b + c + d\n",
    "print('my_sum =', my_sum)\n",
    "\n",
    "div = a / b\n",
    "print('div =', div)\n",
    "\n",
    "# we can also do lots of steps on the same line, just be careful with your parentheses\n",
    "answer = (a + b) * ((c-d) + c*d)\n",
    "print('answer =', answer)"
   ]
  },
  {
   "cell_type": "markdown",
   "id": "e8266da7-79fc-4b63-9f43-db48e8161e1e",
   "metadata": {},
   "source": [
    "### If Statements & For Loops"
   ]
  },
  {
   "cell_type": "markdown",
   "id": "faa989b9-5ba0-440c-a74a-7699fdcb2c0f",
   "metadata": {},
   "source": [
    "The two major pieces of logic we need to understand are **if** statements and **for** loops.  If statements let us run code based on a given condition, while for loops allow us to iterate over some values and repeat a process automatically.  Both follow the specific syntax shown below -- note that indentation is important in python."
   ]
  },
  {
   "cell_type": "code",
   "execution_count": 14,
   "id": "01ebb95f-1c55-4370-800b-8b78095bdbc9",
   "metadata": {},
   "outputs": [
    {
     "name": "stdout",
     "output_type": "stream",
     "text": [
      "computer running code...\n"
     ]
    }
   ],
   "source": [
    "# let's start with a simple if statement\n",
    "# in general, the condition must be a boolean (i.e. evauate to true or false)\n",
    "\n",
    "run_code = True\n",
    "# we condition on whether our variable run_code is true\n",
    "if run_code:\n",
    "    print('computer running code...')"
   ]
  },
  {
   "cell_type": "code",
   "execution_count": 15,
   "id": "ef5f7a18-e21b-46fc-9e55-73190c2862e5",
   "metadata": {},
   "outputs": [
    {
     "name": "stdout",
     "output_type": "stream",
     "text": [
      "incorrect password\n"
     ]
    }
   ],
   "source": [
    "# we can also add an \"else\" clause which gets executed when the \"if\" condition is not satisfied\n",
    "password = 'upenn_23'\n",
    "if password == 'UPenn_24':\n",
    "    print('correct password')\n",
    "else:\n",
    "    print('incorrect password')"
   ]
  },
  {
   "cell_type": "code",
   "execution_count": 16,
   "id": "6969a658-7097-4799-8c74-382370ead285",
   "metadata": {},
   "outputs": [
    {
     "name": "stdout",
     "output_type": "stream",
     "text": [
      "degree = BA\n"
     ]
    }
   ],
   "source": [
    "# finally, we can use \"elif\" to add further branches\n",
    "school = 'SAS'\n",
    "if school == 'SAS':\n",
    "    print('degree = BA')\n",
    "elif school == 'SEAS':\n",
    "    print('degree = BS')\n",
    "elif school == 'Wharton':\n",
    "    print('degree = BSE')\n",
    "elif school == 'Nursing':\n",
    "    print('degree = BSN')\n",
    "else:\n",
    "    print('sure you go to Penn?')"
   ]
  },
  {
   "cell_type": "code",
   "execution_count": 17,
   "id": "d6b311f3-0766-4317-886f-27af4987a634",
   "metadata": {},
   "outputs": [
    {
     "name": "stdout",
     "output_type": "stream",
     "text": [
      "Lucky Number\n"
     ]
    }
   ],
   "source": [
    "# note that we can use \"!=\" for not equals\n",
    "my_number = 19\n",
    "if my_number != 13:\n",
    "    print('Lucky Number')\n",
    "else:\n",
    "    print('Unlucky Number')"
   ]
  },
  {
   "cell_type": "code",
   "execution_count": 18,
   "id": "1efdb888-f701-4f90-9135-8b63c2c85a48",
   "metadata": {},
   "outputs": [
    {
     "name": "stdout",
     "output_type": "stream",
     "text": [
      "and = false\n",
      "or = true\n"
     ]
    }
   ],
   "source": [
    "# for multiple conditions\n",
    "# \"and\" = all conditions must be true\n",
    "x1 = 3\n",
    "x2 = 10\n",
    "if x1 == 3 and x2 == 7:\n",
    "    print('and = true')\n",
    "else:\n",
    "    print('and = false')\n",
    "    \n",
    "# \"or\" = 1 condition must be true\n",
    "if x1 == 5 or x2 == 10:\n",
    "    print('or = true')\n",
    "else:\n",
    "    print('or = false')"
   ]
  },
  {
   "cell_type": "code",
   "execution_count": 19,
   "id": "c5ffcd83-ec61-4af1-a789-93cf68a196c4",
   "metadata": {},
   "outputs": [
    {
     "name": "stdout",
     "output_type": "stream",
     "text": [
      "[1, 2, 3, 500]\n",
      "1\n",
      "2\n",
      "3\n",
      "500\n"
     ]
    }
   ],
   "source": [
    "# now let's try a for loop\n",
    "# for example, say we want to loop over all the items in \"lst,\" the list we defined above, and print out each element\n",
    "print(lst)\n",
    "for elem in lst:         # each iteration, the variable \"elem\" gets assigned to the next element in \"lst:\n",
    "    print(elem)"
   ]
  },
  {
   "cell_type": "code",
   "execution_count": 20,
   "id": "afc79fce-91dd-4dc6-a171-2a84fbb40fc6",
   "metadata": {},
   "outputs": [
    {
     "name": "stdout",
     "output_type": "stream",
     "text": [
      "[1, 2, 3, 500]\n",
      "1\n",
      "2\n",
      "3\n",
      "500\n"
     ]
    }
   ],
   "source": [
    "# we can also use the range() function to loop over the list\n",
    "print(lst)\n",
    "for i in range(len(lst)):           # each iteration, the variable \"i\" gets assgined to the next index of the list\n",
    "    print(lst[i])                   # we can use the index to grab each element"
   ]
  },
  {
   "cell_type": "code",
   "execution_count": 21,
   "id": "6609aadc-47ea-43b2-9af7-4daf68ed2273",
   "metadata": {},
   "outputs": [
    {
     "name": "stdout",
     "output_type": "stream",
     "text": [
      "total = 506\n"
     ]
    }
   ],
   "source": [
    "# we can use a for loop to sum up all of the element in our list\n",
    "total = 0                      # define our total outside of the for loop, so that it doesn't get reassigned each iteration\n",
    "for i in range(len(lst)):\n",
    "    total += lst[i]            # \"+=\" is equivalent to writing total = total + lst[i]\n",
    "\n",
    "print('total =', total)"
   ]
  },
  {
   "cell_type": "markdown",
   "id": "7dffc6ad-d96d-4af8-984a-27b5891409d9",
   "metadata": {},
   "source": [
    "### Functions"
   ]
  },
  {
   "cell_type": "markdown",
   "id": "f37bc467-6365-4b9c-b841-4adb18a96e60",
   "metadata": {},
   "source": [
    "User-defined functions are super useful in python.  At their core, functions take in a set of inputs (called \"arguments\" in codespeak), run some code, and return some outputs.  Importantly, functions allow us to do some \"abstraction\" (again, codespeak), which essentially means instead of having to repeatedly write the same code, we can put it in a function and just call the function."
   ]
  },
  {
   "cell_type": "code",
   "execution_count": 22,
   "id": "d1000859-5d9c-4292-830d-bdba4a258072",
   "metadata": {},
   "outputs": [],
   "source": [
    "# first, we define our function\n",
    "# we'll name this 'fxn', but the name cane be whatever you want (make it informative)\n",
    "# we can give our function inputs (here we give it x1 and x2)\n",
    "# and then return outputs (here we return tot)\n",
    "\n",
    "def fxn(x1, x2):\n",
    "    # we want our function to return the sum of the inputs\n",
    "    tot = x1 + x2\n",
    "    return tot"
   ]
  },
  {
   "cell_type": "code",
   "execution_count": 23,
   "id": "742b317b-356c-4f31-aca6-01bbc76d60d7",
   "metadata": {},
   "outputs": [
    {
     "name": "stdout",
     "output_type": "stream",
     "text": [
      "30\n",
      "[1, 2, 3, 500]\n",
      "4\n"
     ]
    }
   ],
   "source": [
    "# now let's call our function and store what it returns\n",
    "result = fxn(10, 20)\n",
    "print(result)\n",
    "\n",
    "# we can also pass in variable as arguments\n",
    "# here let's give our function 2 elements from our list\n",
    "print(lst)\n",
    "result = fxn(lst[0], lst[2])\n",
    "print(result)"
   ]
  },
  {
   "cell_type": "code",
   "execution_count": 24,
   "id": "7d21a15c-5bd0-4712-adbe-7e7ba9d4c91d",
   "metadata": {},
   "outputs": [],
   "source": [
    "# now let's write a function that will find the smallest number in a list\n",
    "def small_lst(lst):\n",
    "    small = lst[0]      # the current smallest item is the first element\n",
    "    for i in range(len(lst)):          # loop over the elements in the list\n",
    "        if lst[i] < small:             # check if current item is smaller than the current smallest\n",
    "            small = lst[i]             # if so, update the smallest\n",
    "            \n",
    "    return small"
   ]
  },
  {
   "cell_type": "code",
   "execution_count": 25,
   "id": "530844c5-4317-486b-a9ac-d4cb4b127ab6",
   "metadata": {},
   "outputs": [
    {
     "name": "stdout",
     "output_type": "stream",
     "text": [
      "5\n"
     ]
    }
   ],
   "source": [
    "# let's define a list and hand it to our function\n",
    "lst = [10, 50, 30, 40, 70, 90, 100, 110, 5, 45, 60]\n",
    "small = small_lst(lst)\n",
    "print(small)"
   ]
  },
  {
   "cell_type": "markdown",
   "id": "759cb613-ce01-4fdf-b9b7-47c4e3e91b90",
   "metadata": {},
   "source": [
    "### Numpy, Pandas, Matplotlib"
   ]
  },
  {
   "cell_type": "markdown",
   "id": "27994e6f-c5bf-411b-b7ca-ac8cffd59ea1",
   "metadata": {},
   "source": [
    "Python makes use of lots of \"packages,\" which essentially contain pre-written functions that you can call, saving you from having to do lots of manual coding.  In order to make use of the functions in these packages, we must first import them.  "
   ]
  },
  {
   "cell_type": "code",
   "execution_count": 26,
   "id": "7babe4d6-b975-4ece-a9e8-efb7039d52f7",
   "metadata": {},
   "outputs": [],
   "source": [
    "# imports\n",
    "import numpy as np                   # we use numpy arrays to do math\n",
    "import pandas as pd                  # we use pandas dataframes to work with tabular data\n",
    "import matplotlib.pyplot as plt      # we use matplotlib for graphing\n",
    "%matplotlib inline"
   ]
  },
  {
   "cell_type": "markdown",
   "id": "a09002d4-7f3a-45a9-9a75-d7ea7780a1bb",
   "metadata": {},
   "source": [
    "### Numpy\n",
    "Numpy arrays are much like lists, except they are of fixed size and they allow us to do some more advanced mathematical operations."
   ]
  },
  {
   "cell_type": "code",
   "execution_count": 27,
   "id": "72c0102e-9ed3-49cf-9444-efe2830e9f50",
   "metadata": {},
   "outputs": [
    {
     "name": "stdout",
     "output_type": "stream",
     "text": [
      "[1 2 3 4]\n"
     ]
    }
   ],
   "source": [
    "# define a numpy array from a list\n",
    "lst = [1, 2, 3, 4]\n",
    "arr = np.array(lst)\n",
    "print(arr)"
   ]
  },
  {
   "cell_type": "code",
   "execution_count": 28,
   "id": "71a2592d-faba-47b9-8501-bbdcce9007a9",
   "metadata": {},
   "outputs": [
    {
     "name": "stdout",
     "output_type": "stream",
     "text": [
      "[2 3 4 5]\n"
     ]
    }
   ],
   "source": [
    "# mathematical operations on a numpy array will apply to all elements\n",
    "arr2 = arr + 1\n",
    "print(arr2)"
   ]
  },
  {
   "cell_type": "code",
   "execution_count": 29,
   "id": "ea22c044-bee0-4cda-a2b3-c886cb0ca526",
   "metadata": {},
   "outputs": [
    {
     "name": "stdout",
     "output_type": "stream",
     "text": [
      "[0. 0. 0. 0. 0.]\n",
      "[0 1 2 3 4 5 6 7 8 9]\n"
     ]
    }
   ],
   "source": [
    "# we have some hand ways of making numpy arrays\n",
    "# all zeros\n",
    "zeros = np.zeros(5)\n",
    "print(zeros)\n",
    "\n",
    "# range from 0 to n - 1\n",
    "a = np.arange(0, 10)\n",
    "print(a)"
   ]
  },
  {
   "cell_type": "code",
   "execution_count": 30,
   "id": "0f866d68-f81b-4081-bcfc-51aab38fac4c",
   "metadata": {},
   "outputs": [
    {
     "name": "stdout",
     "output_type": "stream",
     "text": [
      "0\n",
      "9\n"
     ]
    }
   ],
   "source": [
    "# again, we can index arrays as we did with lists\n",
    "first_elem = a[0]\n",
    "print(first_elem)\n",
    "last_elem = a[-1]\n",
    "print(last_elem)"
   ]
  },
  {
   "cell_type": "code",
   "execution_count": 31,
   "id": "36bab46b-ccb5-48ba-85bf-f11e4eab886b",
   "metadata": {},
   "outputs": [
    {
     "name": "stdout",
     "output_type": "stream",
     "text": [
      "3.5\n",
      "1.118033988749895\n"
     ]
    }
   ],
   "source": [
    "# also, the numpy package offers some handy built-in functions\n",
    "# mean\n",
    "mean = np.mean(arr2)\n",
    "print(mean)\n",
    "\n",
    "# standard deviation\n",
    "stdev = np.std(arr2)\n",
    "print(stdev)"
   ]
  },
  {
   "cell_type": "markdown",
   "id": "a28a953f-e9ba-4d1e-9dc4-39fdbf6ec4ab",
   "metadata": {},
   "source": [
    "#### Pandas\n",
    "Pandas dataframes allow us to store and parse tabular data.  Think of pandas as a python version of excel."
   ]
  },
  {
   "cell_type": "code",
   "execution_count": 32,
   "id": "0d66e27c-1950-4869-ace4-6ac58930d5d4",
   "metadata": {},
   "outputs": [
    {
     "data": {
      "text/html": [
       "<div>\n",
       "<style scoped>\n",
       "    .dataframe tbody tr th:only-of-type {\n",
       "        vertical-align: middle;\n",
       "    }\n",
       "\n",
       "    .dataframe tbody tr th {\n",
       "        vertical-align: top;\n",
       "    }\n",
       "\n",
       "    .dataframe thead th {\n",
       "        text-align: right;\n",
       "    }\n",
       "</style>\n",
       "<table border=\"1\" class=\"dataframe\">\n",
       "  <thead>\n",
       "    <tr style=\"text-align: right;\">\n",
       "      <th></th>\n",
       "      <th>x</th>\n",
       "      <th>y</th>\n",
       "      <th>z</th>\n",
       "      <th>bl</th>\n",
       "    </tr>\n",
       "  </thead>\n",
       "  <tbody>\n",
       "    <tr>\n",
       "      <th>0</th>\n",
       "      <td>1</td>\n",
       "      <td>100</td>\n",
       "      <td>90</td>\n",
       "      <td>True</td>\n",
       "    </tr>\n",
       "    <tr>\n",
       "      <th>1</th>\n",
       "      <td>2</td>\n",
       "      <td>56</td>\n",
       "      <td>101</td>\n",
       "      <td>True</td>\n",
       "    </tr>\n",
       "    <tr>\n",
       "      <th>2</th>\n",
       "      <td>3</td>\n",
       "      <td>73</td>\n",
       "      <td>90</td>\n",
       "      <td>False</td>\n",
       "    </tr>\n",
       "    <tr>\n",
       "      <th>3</th>\n",
       "      <td>5</td>\n",
       "      <td>124</td>\n",
       "      <td>90</td>\n",
       "      <td>True</td>\n",
       "    </tr>\n",
       "    <tr>\n",
       "      <th>4</th>\n",
       "      <td>7</td>\n",
       "      <td>74</td>\n",
       "      <td>90</td>\n",
       "      <td>False</td>\n",
       "    </tr>\n",
       "    <tr>\n",
       "      <th>5</th>\n",
       "      <td>10</td>\n",
       "      <td>73</td>\n",
       "      <td>65</td>\n",
       "      <td>True</td>\n",
       "    </tr>\n",
       "    <tr>\n",
       "      <th>6</th>\n",
       "      <td>11</td>\n",
       "      <td>89</td>\n",
       "      <td>90</td>\n",
       "      <td>True</td>\n",
       "    </tr>\n",
       "    <tr>\n",
       "      <th>7</th>\n",
       "      <td>12</td>\n",
       "      <td>92</td>\n",
       "      <td>90</td>\n",
       "      <td>False</td>\n",
       "    </tr>\n",
       "    <tr>\n",
       "      <th>8</th>\n",
       "      <td>14</td>\n",
       "      <td>110</td>\n",
       "      <td>110</td>\n",
       "      <td>False</td>\n",
       "    </tr>\n",
       "    <tr>\n",
       "      <th>9</th>\n",
       "      <td>17</td>\n",
       "      <td>108</td>\n",
       "      <td>90</td>\n",
       "      <td>False</td>\n",
       "    </tr>\n",
       "    <tr>\n",
       "      <th>10</th>\n",
       "      <td>19</td>\n",
       "      <td>132</td>\n",
       "      <td>90</td>\n",
       "      <td>True</td>\n",
       "    </tr>\n",
       "  </tbody>\n",
       "</table>\n",
       "</div>"
      ],
      "text/plain": [
       "     x    y    z     bl\n",
       "0    1  100   90   True\n",
       "1    2   56  101   True\n",
       "2    3   73   90  False\n",
       "3    5  124   90   True\n",
       "4    7   74   90  False\n",
       "5   10   73   65   True\n",
       "6   11   89   90   True\n",
       "7   12   92   90  False\n",
       "8   14  110  110  False\n",
       "9   17  108   90  False\n",
       "10  19  132   90   True"
      ]
     },
     "execution_count": 32,
     "metadata": {},
     "output_type": "execute_result"
    }
   ],
   "source": [
    "# don't worry about the details here, just run this cell to build an example dataframe\n",
    "\n",
    "x = [1, 2, 3, 5, 7, 10, 11, 12, 14, 17, 19]\n",
    "y = [100, 56, 73, 124, 74, 73, 89, 92, 110, 108, 132]\n",
    "z = [90, 101, 90, 90, 90, 65, 90, 90, 110, 90, 90]\n",
    "bl = [True, True, False, True, False, True, True, False, False, False, True]\n",
    "\n",
    "df = pd.DataFrame()\n",
    "df['x'] = x; df['y'] = y; df['z'] = z; df['bl'] = bl\n",
    "df"
   ]
  },
  {
   "cell_type": "code",
   "execution_count": 33,
   "id": "020b418c-a469-4433-b281-35a6408062da",
   "metadata": {},
   "outputs": [
    {
     "data": {
      "text/plain": [
       "0     100\n",
       "1      56\n",
       "2      73\n",
       "3     124\n",
       "4      74\n",
       "5      73\n",
       "6      89\n",
       "7      92\n",
       "8     110\n",
       "9     108\n",
       "10    132\n",
       "Name: y, dtype: int64"
      ]
     },
     "execution_count": 33,
     "metadata": {},
     "output_type": "execute_result"
    }
   ],
   "source": [
    "# as we can see above, the dataframe has a number of columns, or fields\n",
    "# one of the first things we may want to do with our data is select a certain field\n",
    "\n",
    "# select the y data using the following syntax\n",
    "y_data = df['y']\n",
    "y_data"
   ]
  },
  {
   "cell_type": "code",
   "execution_count": 34,
   "id": "f3fa22c6-13b5-4755-a4ed-2c1a1d415d2c",
   "metadata": {},
   "outputs": [
    {
     "name": "stdout",
     "output_type": "stream",
     "text": [
      "[100, 56, 73, 124, 74, 73, 89, 92, 110, 108, 132]\n",
      "[100  56  73 124  74  73  89  92 110 108 132]\n"
     ]
    }
   ],
   "source": [
    "# that gave us a pandas series\n",
    "# we can make this data more useful to us by transforming it to a list or an array\n",
    "y_list = list(y_data)\n",
    "print(y_list)\n",
    "\n",
    "y_arr = np.array(y_data)\n",
    "print(y_arr)"
   ]
  },
  {
   "cell_type": "code",
   "execution_count": 35,
   "id": "b96a5106-9d42-4f19-8489-2f903b637a71",
   "metadata": {},
   "outputs": [
    {
     "data": {
      "text/html": [
       "<div>\n",
       "<style scoped>\n",
       "    .dataframe tbody tr th:only-of-type {\n",
       "        vertical-align: middle;\n",
       "    }\n",
       "\n",
       "    .dataframe tbody tr th {\n",
       "        vertical-align: top;\n",
       "    }\n",
       "\n",
       "    .dataframe thead th {\n",
       "        text-align: right;\n",
       "    }\n",
       "</style>\n",
       "<table border=\"1\" class=\"dataframe\">\n",
       "  <thead>\n",
       "    <tr style=\"text-align: right;\">\n",
       "      <th></th>\n",
       "      <th>x</th>\n",
       "      <th>y</th>\n",
       "      <th>z</th>\n",
       "      <th>bl</th>\n",
       "    </tr>\n",
       "  </thead>\n",
       "  <tbody>\n",
       "    <tr>\n",
       "      <th>0</th>\n",
       "      <td>1</td>\n",
       "      <td>100</td>\n",
       "      <td>90</td>\n",
       "      <td>True</td>\n",
       "    </tr>\n",
       "    <tr>\n",
       "      <th>1</th>\n",
       "      <td>2</td>\n",
       "      <td>56</td>\n",
       "      <td>101</td>\n",
       "      <td>True</td>\n",
       "    </tr>\n",
       "    <tr>\n",
       "      <th>3</th>\n",
       "      <td>5</td>\n",
       "      <td>124</td>\n",
       "      <td>90</td>\n",
       "      <td>True</td>\n",
       "    </tr>\n",
       "    <tr>\n",
       "      <th>5</th>\n",
       "      <td>10</td>\n",
       "      <td>73</td>\n",
       "      <td>65</td>\n",
       "      <td>True</td>\n",
       "    </tr>\n",
       "    <tr>\n",
       "      <th>6</th>\n",
       "      <td>11</td>\n",
       "      <td>89</td>\n",
       "      <td>90</td>\n",
       "      <td>True</td>\n",
       "    </tr>\n",
       "    <tr>\n",
       "      <th>10</th>\n",
       "      <td>19</td>\n",
       "      <td>132</td>\n",
       "      <td>90</td>\n",
       "      <td>True</td>\n",
       "    </tr>\n",
       "  </tbody>\n",
       "</table>\n",
       "</div>"
      ],
      "text/plain": [
       "     x    y    z    bl\n",
       "0    1  100   90  True\n",
       "1    2   56  101  True\n",
       "3    5  124   90  True\n",
       "5   10   73   65  True\n",
       "6   11   89   90  True\n",
       "10  19  132   90  True"
      ]
     },
     "execution_count": 35,
     "metadata": {},
     "output_type": "execute_result"
    }
   ],
   "source": [
    "# the other thing we will ofen need to do is filter the data based on some condition\n",
    "# for example, what if we only want rows where 'bl' is True\n",
    "# we filter with the following syntax\n",
    "# we want to start with 'df' and condition on whether the 'bl' field of 'df' is True\n",
    "all_true = df[df['bl'] == True]\n",
    "all_true"
   ]
  },
  {
   "cell_type": "code",
   "execution_count": 36,
   "id": "27ffd2fd-545d-4011-b8c4-c953207b0b8b",
   "metadata": {},
   "outputs": [
    {
     "data": {
      "text/html": [
       "<div>\n",
       "<style scoped>\n",
       "    .dataframe tbody tr th:only-of-type {\n",
       "        vertical-align: middle;\n",
       "    }\n",
       "\n",
       "    .dataframe tbody tr th {\n",
       "        vertical-align: top;\n",
       "    }\n",
       "\n",
       "    .dataframe thead th {\n",
       "        text-align: right;\n",
       "    }\n",
       "</style>\n",
       "<table border=\"1\" class=\"dataframe\">\n",
       "  <thead>\n",
       "    <tr style=\"text-align: right;\">\n",
       "      <th></th>\n",
       "      <th>x</th>\n",
       "      <th>y</th>\n",
       "      <th>z</th>\n",
       "      <th>bl</th>\n",
       "    </tr>\n",
       "  </thead>\n",
       "  <tbody>\n",
       "    <tr>\n",
       "      <th>0</th>\n",
       "      <td>1</td>\n",
       "      <td>100</td>\n",
       "      <td>90</td>\n",
       "      <td>True</td>\n",
       "    </tr>\n",
       "    <tr>\n",
       "      <th>3</th>\n",
       "      <td>5</td>\n",
       "      <td>124</td>\n",
       "      <td>90</td>\n",
       "      <td>True</td>\n",
       "    </tr>\n",
       "    <tr>\n",
       "      <th>10</th>\n",
       "      <td>19</td>\n",
       "      <td>132</td>\n",
       "      <td>90</td>\n",
       "      <td>True</td>\n",
       "    </tr>\n",
       "  </tbody>\n",
       "</table>\n",
       "</div>"
      ],
      "text/plain": [
       "     x    y   z    bl\n",
       "0    1  100  90  True\n",
       "3    5  124  90  True\n",
       "10  19  132  90  True"
      ]
     },
     "execution_count": 36,
     "metadata": {},
     "output_type": "execute_result"
    }
   ],
   "source": [
    "# now let's filter this data for the rows where 'y' is greater than 90\n",
    "# notice that we are now filter 'all_true' instead of 'df'\n",
    "great_y = all_true[all_true['y'] > 90]\n",
    "great_y"
   ]
  },
  {
   "cell_type": "code",
   "execution_count": 37,
   "id": "3bcf8954-ac4e-4f6f-874d-40d7232e1cd5",
   "metadata": {},
   "outputs": [
    {
     "name": "stdout",
     "output_type": "stream",
     "text": [
      "[1, 5, 19]\n",
      "8.333333333333334\n"
     ]
    }
   ],
   "source": [
    "# finally, using this data, let's find the average 'x' value\n",
    "# we select the field, convert it to a list, and use a numpy function\n",
    "x_data = list(great_y['x'])\n",
    "print(x_data)\n",
    "\n",
    "x_mean = np.mean(x_data)\n",
    "print(x_mean)"
   ]
  },
  {
   "cell_type": "markdown",
   "id": "a008ccd7-c221-4365-920a-4772847feb2d",
   "metadata": {},
   "source": [
    "##### Matplotlib\n",
    "Matplotlib allows us to make graphs to visualize our data."
   ]
  },
  {
   "cell_type": "code",
   "execution_count": 38,
   "id": "683ef6a8-cca0-45d0-a958-ad9065bd6d2a",
   "metadata": {},
   "outputs": [
    {
     "name": "stdout",
     "output_type": "stream",
     "text": [
      "[ 1.  2.  3.  4.  5.  6.  7.  8.  9. 10.]\n"
     ]
    },
    {
     "data": {
      "image/png": "[encoded data removed]",
      "text/plain": [
       "<Figure size 640x480 with 1 Axes>"
      ]
     },
     "metadata": {},
     "output_type": "display_data"
    }
   ],
   "source": [
    "# for all of our graphs, we will be plotting some independent variable with some dependent variable\n",
    "\n",
    "# IV\n",
    "x = np.linspace(1, 10, 10)\n",
    "print(x)\n",
    "\n",
    "# DV\n",
    "y = [10, 23, 6, 15, 28, 23, 12, 25, 14, 33]\n",
    "\n",
    "# in our plot statement, put the IV first, the DV second, and make sure the two are the same shape!\n",
    "plt.plot(x, y)\n",
    "\n",
    "# we can also add labels to our plot\n",
    "plt.xlabel('x')\n",
    "plt.ylabel('y')\n",
    "plt.title('matplotlib graph')\n",
    "\n",
    "# show our plot\n",
    "plt.show()"
   ]
  },
  {
   "cell_type": "code",
   "execution_count": 39,
   "id": "ede6233f-0bd5-458d-80a1-7e02867b30b2",
   "metadata": {},
   "outputs": [
    {
     "data": {
      "image/png": "[encoded data removed]",
      "text/plain": [
       "<Figure size 640x480 with 1 Axes>"
      ]
     },
     "metadata": {},
     "output_type": "display_data"
    }
   ],
   "source": [
    "# we can also put multiple graphs on the same plot --> be sure to add a legend\n",
    "\n",
    "# specify the color and the legend label\n",
    "plt.plot(x, y, color='purple', label='first_curve')\n",
    "plt.plot(x, np.array(y) + 3, color='orange', label='second_curve')\n",
    "\n",
    "# add the legend\n",
    "plt.legend()\n",
    "\n",
    "plt.show()"
   ]
  },
  {
   "cell_type": "markdown",
   "id": "8ae05b0e-51f6-4c0b-959f-74f91a605fa3",
   "metadata": {},
   "source": [
    "## Problems\n",
    "\n",
    "See the assignment 1 pdf for the questions.  Write your code to answer those questions below.  Make sure you have downloaded the 'Example_Penn_Data.csv' and put it in the same folder as this notebook.  Run the below cell to load the data."
   ]
  },
  {
   "cell_type": "code",
   "execution_count": 40,
   "id": "dd3dc0e7-f974-409f-8e9b-f4e067cafe2d",
   "metadata": {},
   "outputs": [
    {
     "data": {
      "text/html": [
       "<div>\n",
       "<style scoped>\n",
       "    .dataframe tbody tr th:only-of-type {\n",
       "        vertical-align: middle;\n",
       "    }\n",
       "\n",
       "    .dataframe tbody tr th {\n",
       "        vertical-align: top;\n",
       "    }\n",
       "\n",
       "    .dataframe thead th {\n",
       "        text-align: right;\n",
       "    }\n",
       "</style>\n",
       "<table border=\"1\" class=\"dataframe\">\n",
       "  <thead>\n",
       "    <tr style=\"text-align: right;\">\n",
       "      <th></th>\n",
       "      <th>School</th>\n",
       "      <th>Major</th>\n",
       "      <th>Course_Units</th>\n",
       "      <th>PhD</th>\n",
       "      <th>Intro_101</th>\n",
       "      <th>Class_Size</th>\n",
       "    </tr>\n",
       "  </thead>\n",
       "  <tbody>\n",
       "    <tr>\n",
       "      <th>0</th>\n",
       "      <td>SAS</td>\n",
       "      <td>Architecture</td>\n",
       "      <td>33.0</td>\n",
       "      <td>0</td>\n",
       "      <td>0</td>\n",
       "      <td>11</td>\n",
       "    </tr>\n",
       "    <tr>\n",
       "      <th>1</th>\n",
       "      <td>SAS</td>\n",
       "      <td>Biochemistry</td>\n",
       "      <td>36.5</td>\n",
       "      <td>0</td>\n",
       "      <td>0</td>\n",
       "      <td>26</td>\n",
       "    </tr>\n",
       "    <tr>\n",
       "      <th>2</th>\n",
       "      <td>SAS</td>\n",
       "      <td>Biology</td>\n",
       "      <td>36.0</td>\n",
       "      <td>1</td>\n",
       "      <td>1</td>\n",
       "      <td>77</td>\n",
       "    </tr>\n",
       "    <tr>\n",
       "      <th>3</th>\n",
       "      <td>SAS</td>\n",
       "      <td>Biophysics</td>\n",
       "      <td>40.0</td>\n",
       "      <td>1</td>\n",
       "      <td>0</td>\n",
       "      <td>14</td>\n",
       "    </tr>\n",
       "    <tr>\n",
       "      <th>4</th>\n",
       "      <td>SAS</td>\n",
       "      <td>Chemistry</td>\n",
       "      <td>36.0</td>\n",
       "      <td>1</td>\n",
       "      <td>1</td>\n",
       "      <td>53</td>\n",
       "    </tr>\n",
       "    <tr>\n",
       "      <th>5</th>\n",
       "      <td>SAS</td>\n",
       "      <td>Cinema_Studies</td>\n",
       "      <td>33.0</td>\n",
       "      <td>0</td>\n",
       "      <td>0</td>\n",
       "      <td>18</td>\n",
       "    </tr>\n",
       "    <tr>\n",
       "      <th>6</th>\n",
       "      <td>SAS</td>\n",
       "      <td>Cognitive_Science</td>\n",
       "      <td>36.0</td>\n",
       "      <td>0</td>\n",
       "      <td>1</td>\n",
       "      <td>45</td>\n",
       "    </tr>\n",
       "    <tr>\n",
       "      <th>7</th>\n",
       "      <td>SAS</td>\n",
       "      <td>Communications</td>\n",
       "      <td>34.0</td>\n",
       "      <td>1</td>\n",
       "      <td>1</td>\n",
       "      <td>32</td>\n",
       "    </tr>\n",
       "    <tr>\n",
       "      <th>8</th>\n",
       "      <td>SAS</td>\n",
       "      <td>Design</td>\n",
       "      <td>34.0</td>\n",
       "      <td>0</td>\n",
       "      <td>0</td>\n",
       "      <td>6</td>\n",
       "    </tr>\n",
       "    <tr>\n",
       "      <th>9</th>\n",
       "      <td>SAS</td>\n",
       "      <td>Earth_Environmental_Science</td>\n",
       "      <td>35.5</td>\n",
       "      <td>1</td>\n",
       "      <td>1</td>\n",
       "      <td>19</td>\n",
       "    </tr>\n",
       "    <tr>\n",
       "      <th>10</th>\n",
       "      <td>SAS</td>\n",
       "      <td>Economics</td>\n",
       "      <td>32.0</td>\n",
       "      <td>1</td>\n",
       "      <td>1</td>\n",
       "      <td>110</td>\n",
       "    </tr>\n",
       "    <tr>\n",
       "      <th>11</th>\n",
       "      <td>SAS</td>\n",
       "      <td>English</td>\n",
       "      <td>33.0</td>\n",
       "      <td>1</td>\n",
       "      <td>0</td>\n",
       "      <td>28</td>\n",
       "    </tr>\n",
       "    <tr>\n",
       "      <th>12</th>\n",
       "      <td>SAS</td>\n",
       "      <td>Fine_Arts</td>\n",
       "      <td>34.0</td>\n",
       "      <td>0</td>\n",
       "      <td>0</td>\n",
       "      <td>5</td>\n",
       "    </tr>\n",
       "    <tr>\n",
       "      <th>13</th>\n",
       "      <td>SAS</td>\n",
       "      <td>French</td>\n",
       "      <td>32.0</td>\n",
       "      <td>0</td>\n",
       "      <td>1</td>\n",
       "      <td>9</td>\n",
       "    </tr>\n",
       "    <tr>\n",
       "      <th>14</th>\n",
       "      <td>SAS</td>\n",
       "      <td>History</td>\n",
       "      <td>33.0</td>\n",
       "      <td>1</td>\n",
       "      <td>0</td>\n",
       "      <td>21</td>\n",
       "    </tr>\n",
       "    <tr>\n",
       "      <th>15</th>\n",
       "      <td>SAS</td>\n",
       "      <td>Linguistics</td>\n",
       "      <td>34.0</td>\n",
       "      <td>1</td>\n",
       "      <td>1</td>\n",
       "      <td>14</td>\n",
       "    </tr>\n",
       "    <tr>\n",
       "      <th>16</th>\n",
       "      <td>SAS</td>\n",
       "      <td>Mathematical_Economics</td>\n",
       "      <td>37.0</td>\n",
       "      <td>0</td>\n",
       "      <td>0</td>\n",
       "      <td>18</td>\n",
       "    </tr>\n",
       "    <tr>\n",
       "      <th>17</th>\n",
       "      <td>SAS</td>\n",
       "      <td>Mathematics</td>\n",
       "      <td>33.0</td>\n",
       "      <td>1</td>\n",
       "      <td>1</td>\n",
       "      <td>25</td>\n",
       "    </tr>\n",
       "    <tr>\n",
       "      <th>18</th>\n",
       "      <td>SAS</td>\n",
       "      <td>Music</td>\n",
       "      <td>34.0</td>\n",
       "      <td>0</td>\n",
       "      <td>0</td>\n",
       "      <td>4</td>\n",
       "    </tr>\n",
       "    <tr>\n",
       "      <th>19</th>\n",
       "      <td>SAS</td>\n",
       "      <td>Neuroscience</td>\n",
       "      <td>36.0</td>\n",
       "      <td>1</td>\n",
       "      <td>1</td>\n",
       "      <td>65</td>\n",
       "    </tr>\n",
       "    <tr>\n",
       "      <th>20</th>\n",
       "      <td>SAS</td>\n",
       "      <td>Philosophy</td>\n",
       "      <td>32.0</td>\n",
       "      <td>1</td>\n",
       "      <td>1</td>\n",
       "      <td>30</td>\n",
       "    </tr>\n",
       "    <tr>\n",
       "      <th>21</th>\n",
       "      <td>SAS</td>\n",
       "      <td>Physics</td>\n",
       "      <td>37.5</td>\n",
       "      <td>1</td>\n",
       "      <td>0</td>\n",
       "      <td>53</td>\n",
       "    </tr>\n",
       "    <tr>\n",
       "      <th>22</th>\n",
       "      <td>SAS</td>\n",
       "      <td>Political_Science</td>\n",
       "      <td>32.0</td>\n",
       "      <td>1</td>\n",
       "      <td>0</td>\n",
       "      <td>63</td>\n",
       "    </tr>\n",
       "    <tr>\n",
       "      <th>23</th>\n",
       "      <td>SAS</td>\n",
       "      <td>Psychology</td>\n",
       "      <td>34.0</td>\n",
       "      <td>1</td>\n",
       "      <td>1</td>\n",
       "      <td>58</td>\n",
       "    </tr>\n",
       "    <tr>\n",
       "      <th>24</th>\n",
       "      <td>SAS</td>\n",
       "      <td>Theatre_Arts</td>\n",
       "      <td>33.0</td>\n",
       "      <td>0</td>\n",
       "      <td>1</td>\n",
       "      <td>5</td>\n",
       "    </tr>\n",
       "    <tr>\n",
       "      <th>25</th>\n",
       "      <td>SAS</td>\n",
       "      <td>Visual_Studies</td>\n",
       "      <td>35.0</td>\n",
       "      <td>0</td>\n",
       "      <td>1</td>\n",
       "      <td>3</td>\n",
       "    </tr>\n",
       "    <tr>\n",
       "      <th>26</th>\n",
       "      <td>SEAS</td>\n",
       "      <td>Bioengineering</td>\n",
       "      <td>37.0</td>\n",
       "      <td>1</td>\n",
       "      <td>0</td>\n",
       "      <td>35</td>\n",
       "    </tr>\n",
       "    <tr>\n",
       "      <th>27</th>\n",
       "      <td>SEAS</td>\n",
       "      <td>Chemical_Biomolecular_Engineering</td>\n",
       "      <td>36.0</td>\n",
       "      <td>0</td>\n",
       "      <td>0</td>\n",
       "      <td>37</td>\n",
       "    </tr>\n",
       "    <tr>\n",
       "      <th>28</th>\n",
       "      <td>SEAS</td>\n",
       "      <td>Computer_Engineering</td>\n",
       "      <td>40.0</td>\n",
       "      <td>0</td>\n",
       "      <td>1</td>\n",
       "      <td>15</td>\n",
       "    </tr>\n",
       "    <tr>\n",
       "      <th>29</th>\n",
       "      <td>SEAS</td>\n",
       "      <td>Computer_Science</td>\n",
       "      <td>35.0</td>\n",
       "      <td>1</td>\n",
       "      <td>1</td>\n",
       "      <td>92</td>\n",
       "    </tr>\n",
       "    <tr>\n",
       "      <th>30</th>\n",
       "      <td>SEAS</td>\n",
       "      <td>Electrical_Engineering</td>\n",
       "      <td>37.0</td>\n",
       "      <td>1</td>\n",
       "      <td>0</td>\n",
       "      <td>45</td>\n",
       "    </tr>\n",
       "    <tr>\n",
       "      <th>31</th>\n",
       "      <td>SEAS</td>\n",
       "      <td>Materials_Science_Engineering</td>\n",
       "      <td>36.5</td>\n",
       "      <td>1</td>\n",
       "      <td>0</td>\n",
       "      <td>33</td>\n",
       "    </tr>\n",
       "    <tr>\n",
       "      <th>32</th>\n",
       "      <td>SEAS</td>\n",
       "      <td>Mechanical_Engineering</td>\n",
       "      <td>37.0</td>\n",
       "      <td>1</td>\n",
       "      <td>0</td>\n",
       "      <td>29</td>\n",
       "    </tr>\n",
       "    <tr>\n",
       "      <th>33</th>\n",
       "      <td>SEAS</td>\n",
       "      <td>Systems_Science_Engineering</td>\n",
       "      <td>39.0</td>\n",
       "      <td>0</td>\n",
       "      <td>1</td>\n",
       "      <td>17</td>\n",
       "    </tr>\n",
       "    <tr>\n",
       "      <th>34</th>\n",
       "      <td>WHARTON</td>\n",
       "      <td>Behavioral_Economics</td>\n",
       "      <td>36.0</td>\n",
       "      <td>1</td>\n",
       "      <td>0</td>\n",
       "      <td>43</td>\n",
       "    </tr>\n",
       "    <tr>\n",
       "      <th>35</th>\n",
       "      <td>WHARTON</td>\n",
       "      <td>Business_Analytics</td>\n",
       "      <td>37.0</td>\n",
       "      <td>0</td>\n",
       "      <td>0</td>\n",
       "      <td>60</td>\n",
       "    </tr>\n",
       "    <tr>\n",
       "      <th>36</th>\n",
       "      <td>WHARTON</td>\n",
       "      <td>Finance</td>\n",
       "      <td>37.0</td>\n",
       "      <td>1</td>\n",
       "      <td>1</td>\n",
       "      <td>67</td>\n",
       "    </tr>\n",
       "    <tr>\n",
       "      <th>37</th>\n",
       "      <td>WHARTON</td>\n",
       "      <td>Legal_Studies</td>\n",
       "      <td>34.0</td>\n",
       "      <td>0</td>\n",
       "      <td>1</td>\n",
       "      <td>13</td>\n",
       "    </tr>\n",
       "    <tr>\n",
       "      <th>38</th>\n",
       "      <td>WHARTON</td>\n",
       "      <td>Management</td>\n",
       "      <td>35.0</td>\n",
       "      <td>0</td>\n",
       "      <td>1</td>\n",
       "      <td>55</td>\n",
       "    </tr>\n",
       "    <tr>\n",
       "      <th>39</th>\n",
       "      <td>WHARTON</td>\n",
       "      <td>Marketing</td>\n",
       "      <td>37.0</td>\n",
       "      <td>0</td>\n",
       "      <td>1</td>\n",
       "      <td>38</td>\n",
       "    </tr>\n",
       "    <tr>\n",
       "      <th>40</th>\n",
       "      <td>WHARTON</td>\n",
       "      <td>Statistics_Data_Science</td>\n",
       "      <td>39.0</td>\n",
       "      <td>1</td>\n",
       "      <td>1</td>\n",
       "      <td>43</td>\n",
       "    </tr>\n",
       "    <tr>\n",
       "      <th>41</th>\n",
       "      <td>NURSING</td>\n",
       "      <td>Nursing</td>\n",
       "      <td>38.0</td>\n",
       "      <td>0</td>\n",
       "      <td>1</td>\n",
       "      <td>213</td>\n",
       "    </tr>\n",
       "    <tr>\n",
       "      <th>42</th>\n",
       "      <td>NURSING</td>\n",
       "      <td>Nutrition_Science</td>\n",
       "      <td>40.5</td>\n",
       "      <td>1</td>\n",
       "      <td>1</td>\n",
       "      <td>31</td>\n",
       "    </tr>\n",
       "  </tbody>\n",
       "</table>\n",
       "</div>"
      ],
      "text/plain": [
       "     School                              Major  Course_Units  PhD  Intro_101  \\\n",
       "0       SAS                       Architecture          33.0    0          0   \n",
       "1       SAS                       Biochemistry          36.5    0          0   \n",
       "2       SAS                            Biology          36.0    1          1   \n",
       "3       SAS                         Biophysics          40.0    1          0   \n",
       "4       SAS                          Chemistry          36.0    1          1   \n",
       "5       SAS                     Cinema_Studies          33.0    0          0   \n",
       "6       SAS                  Cognitive_Science          36.0    0          1   \n",
       "7       SAS                     Communications          34.0    1          1   \n",
       "8       SAS                             Design          34.0    0          0   \n",
       "9       SAS        Earth_Environmental_Science          35.5    1          1   \n",
       "10      SAS                          Economics          32.0    1          1   \n",
       "11      SAS                            English          33.0    1          0   \n",
       "12      SAS                          Fine_Arts          34.0    0          0   \n",
       "13      SAS                             French          32.0    0          1   \n",
       "14      SAS                            History          33.0    1          0   \n",
       "15      SAS                        Linguistics          34.0    1          1   \n",
       "16      SAS             Mathematical_Economics          37.0    0          0   \n",
       "17      SAS                        Mathematics          33.0    1          1   \n",
       "18      SAS                              Music          34.0    0          0   \n",
       "19      SAS                       Neuroscience          36.0    1          1   \n",
       "20      SAS                         Philosophy          32.0    1          1   \n",
       "21      SAS                            Physics          37.5    1          0   \n",
       "22      SAS                  Political_Science          32.0    1          0   \n",
       "23      SAS                         Psychology          34.0    1          1   \n",
       "24      SAS                       Theatre_Arts          33.0    0          1   \n",
       "25      SAS                     Visual_Studies          35.0    0          1   \n",
       "26     SEAS                     Bioengineering          37.0    1          0   \n",
       "27     SEAS  Chemical_Biomolecular_Engineering          36.0    0          0   \n",
       "28     SEAS               Computer_Engineering          40.0    0          1   \n",
       "29     SEAS                   Computer_Science          35.0    1          1   \n",
       "30     SEAS             Electrical_Engineering          37.0    1          0   \n",
       "31     SEAS      Materials_Science_Engineering          36.5    1          0   \n",
       "32     SEAS             Mechanical_Engineering          37.0    1          0   \n",
       "33     SEAS        Systems_Science_Engineering          39.0    0          1   \n",
       "34  WHARTON               Behavioral_Economics          36.0    1          0   \n",
       "35  WHARTON                 Business_Analytics          37.0    0          0   \n",
       "36  WHARTON                            Finance          37.0    1          1   \n",
       "37  WHARTON                      Legal_Studies          34.0    0          1   \n",
       "38  WHARTON                         Management          35.0    0          1   \n",
       "39  WHARTON                          Marketing          37.0    0          1   \n",
       "40  WHARTON            Statistics_Data_Science          39.0    1          1   \n",
       "41  NURSING                            Nursing          38.0    0          1   \n",
       "42  NURSING                  Nutrition_Science          40.5    1          1   \n",
       "\n",
       "    Class_Size  \n",
       "0           11  \n",
       "1           26  \n",
       "2           77  \n",
       "3           14  \n",
       "4           53  \n",
       "5           18  \n",
       "6           45  \n",
       "7           32  \n",
       "8            6  \n",
       "9           19  \n",
       "10         110  \n",
       "11          28  \n",
       "12           5  \n",
       "13           9  \n",
       "14          21  \n",
       "15          14  \n",
       "16          18  \n",
       "17          25  \n",
       "18           4  \n",
       "19          65  \n",
       "20          30  \n",
       "21          53  \n",
       "22          63  \n",
       "23          58  \n",
       "24           5  \n",
       "25           3  \n",
       "26          35  \n",
       "27          37  \n",
       "28          15  \n",
       "29          92  \n",
       "30          45  \n",
       "31          33  \n",
       "32          29  \n",
       "33          17  \n",
       "34          43  \n",
       "35          60  \n",
       "36          67  \n",
       "37          13  \n",
       "38          55  \n",
       "39          38  \n",
       "40          43  \n",
       "41         213  \n",
       "42          31  "
      ]
     },
     "execution_count": 40,
     "metadata": {},
     "output_type": "execute_result"
    }
   ],
   "source": [
    "data = pd.read_csv('Example_Penn_Data.csv')\n",
    "data"
   ]
  },
  {
   "cell_type": "markdown",
   "id": "8c4257d0-cef2-43bc-8b47-eebe78f8107f",
   "metadata": {},
   "source": [
    "### Question 1"
   ]
  },
  {
   "cell_type": "code",
   "execution_count": 38,
   "id": "c7378b8d-4ef6-4242-842c-e94d2688139f",
   "metadata": {},
   "outputs": [],
   "source": [
    "### YOUR CODE HERE"
   ]
  },
  {
   "cell_type": "markdown",
   "id": "c0287aca-6fde-426c-8369-81eb4d4ee79d",
   "metadata": {},
   "source": [
    "### Question 2"
   ]
  },
  {
   "cell_type": "code",
   "execution_count": 39,
   "id": "2272bf36-ce24-44a8-97a2-d4cc9c7a2f01",
   "metadata": {},
   "outputs": [],
   "source": [
    "### YOUR CODE HERE"
   ]
  },
  {
   "cell_type": "markdown",
   "id": "82b0e02b-67ed-451c-86fa-aff42e271e83",
   "metadata": {},
   "source": [
    "### Question 3"
   ]
  },
  {
   "cell_type": "code",
   "execution_count": 40,
   "id": "08998e26-1bff-44e9-8db1-0cbdb1c1eca0",
   "metadata": {},
   "outputs": [],
   "source": [
    "### YOUR CODE HERE"
   ]
  },
  {
   "cell_type": "markdown",
   "id": "d08904c4-2ad8-4b76-ae82-38af7dde1035",
   "metadata": {},
   "source": [
    "### Question 4"
   ]
  },
  {
   "cell_type": "code",
   "execution_count": 41,
   "id": "d93ee3ef-099d-4834-935b-52d1f46f4bd1",
   "metadata": {},
   "outputs": [],
   "source": [
    "### YOUR CODE HERE"
   ]
  }
 ],
 "metadata": {
  "kernelspec": {
   "display_name": "bids",
   "language": "python",
   "name": "bids"
  },
  "language_info": {
   "codemirror_mode": {
    "name": "ipython",
    "version": 3
   },
   "file_extension": ".py",
   "mimetype": "text/x-python",
   "name": "python",
   "nbconvert_exporter": "python",
   "pygments_lexer": "ipython3",
   "version": "3.11.4"
  }
 },
 "nbformat": 4,
 "nbformat_minor": 5
}
